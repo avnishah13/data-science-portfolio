{
 "cells": [
  {
   "cell_type": "code",
   "execution_count": 1,
   "metadata": {},
   "outputs": [
    {
     "name": "stderr",
     "output_type": "stream",
     "text": [
      "C:\\Users\\shahv\\AppData\\Local\\Temp\\ipykernel_7760\\2510013797.py:2: FutureWarning: The error_bad_lines argument has been deprecated and will be removed in a future version. Use on_bad_lines in the future.\n",
      "\n",
      "\n",
      "  data = pd.read_csv(r\"C:\\Users\\shahv\\Downloads\\abcnews-date-text-small.csv\", error_bad_lines=False);\n"
     ]
    }
   ],
   "source": [
    "import pandas as pd\n",
    "data = pd.read_csv(r\"C:\\Users\\shahv\\Downloads\\abcnews-date-text-small.csv\", error_bad_lines=False);\n",
    "data_text = data[['headline_text']]\n",
    "data_text['index'] = data_text.index\n",
    "documents = data_text"
   ]
  },
  {
   "cell_type": "code",
   "execution_count": 2,
   "metadata": {},
   "outputs": [
    {
     "name": "stdout",
     "output_type": "stream",
     "text": [
      "19999\n",
      "                                       headline_text  index\n",
      "0  aba decides against community broadcasting lic...      0\n",
      "1     act fire witnesses must be aware of defamation      1\n",
      "2     a g calls for infrastructure protection summit      2\n",
      "3           air nz staff in aust strike for pay rise      3\n",
      "4      air nz strike to affect australian travellers      4\n"
     ]
    }
   ],
   "source": [
    "print(len(documents))\n",
    "print(documents[:5])"
   ]
  },
  {
   "cell_type": "markdown",
   "metadata": {},
   "source": [
    "# Data Pre-processing\n",
    "Tokenization\n",
    "Words that have fewer than 3 characters are removed.\n",
    "stopwords \n",
    "lemmatized/stemmed"
   ]
  },
  {
   "cell_type": "code",
   "execution_count": 3,
   "metadata": {},
   "outputs": [],
   "source": [
    "import gensim\n",
    "from gensim.utils import simple_preprocess\n",
    "from gensim.parsing.preprocessing import STOPWORDS\n",
    "from nltk.stem import WordNetLemmatizer, SnowballStemmer\n",
    "from nltk.stem.porter import *\n",
    "import numpy as np\n",
    "np.random.seed(2018)\n",
    "import nltk"
   ]
  },
  {
   "cell_type": "code",
   "execution_count": 4,
   "metadata": {},
   "outputs": [],
   "source": [
    "#from nltk.stem.porter import stemmer"
   ]
  },
  {
   "cell_type": "code",
   "execution_count": 5,
   "metadata": {},
   "outputs": [],
   "source": [
    "def lemmatize_stemming(text):\n",
    "    return WordNetLemmatizer().lemmatize(text, pos='v')"
   ]
  },
  {
   "cell_type": "code",
   "execution_count": 7,
   "metadata": {},
   "outputs": [],
   "source": [
    "def preprocess(text):\n",
    "    result = []\n",
    "    for token in gensim.utils.simple_preprocess(text):\n",
    "        if token not in gensim.parsing.preprocessing.STOPWORDS and len(token) > 2:\n",
    "            result.append(lemmatize_stemming(token))\n",
    "    return result"
   ]
  },
  {
   "cell_type": "markdown",
   "metadata": {},
   "source": [
    "# Select a document to preview after preprocessing."
   ]
  },
  {
   "cell_type": "code",
   "execution_count": 8,
   "metadata": {},
   "outputs": [
    {
     "name": "stdout",
     "output_type": "stream",
     "text": [
      "original document: \n",
      "['nz', 'suspends', 'loose', 'tobacco', 'sales']\n",
      "\n",
      "\n",
      " tokenized and lemmatized document: \n",
      "['suspend', 'loose', 'tobacco', 'sales']\n"
     ]
    }
   ],
   "source": [
    "doc_sample = documents[documents['index'] == 8500].values[0][0]\n",
    "print('original document: ')\n",
    "words = []\n",
    "    for word in doc_sample.split(' '):\n",
    "        words.append(word)\n",
    "print(words)\n",
    "print('\\n\\n tokenized and lemmatized document: ')\n",
    "print(preprocess(doc_sample))"
   ]
  },
  {
   "cell_type": "code",
   "execution_count": null,
   "metadata": {},
   "outputs": [],
   "source": []
  },
  {
   "cell_type": "markdown",
   "metadata": {},
   "source": [
    "Preprocess the headline text, saving the results as ‘processed_docs’"
   ]
  },
  {
   "cell_type": "code",
   "execution_count": 9,
   "metadata": {},
   "outputs": [
    {
     "data": {
      "text/plain": [
       "0         [aba, decide, community, broadcast, licence]\n",
       "1                    [act, witness, aware, defamation]\n",
       "2           [call, infrastructure, protection, summit]\n",
       "3                [air, staff, aust, strike, pay, rise]\n",
       "4        [air, strike, affect, australian, travellers]\n",
       "5               [ambitious, olsson, win, triple, jump]\n",
       "6               [antic, delight, record, break, barca]\n",
       "7    [aussie, qualifier, stosur, waste, memphis, ma...\n",
       "8             [aust, address, security, council, iraq]\n",
       "9               [australia, lock, war, timetable, opp]\n",
       "Name: headline_text, dtype: object"
      ]
     },
     "execution_count": 9,
     "metadata": {},
     "output_type": "execute_result"
    }
   ],
   "source": [
    "processed_docs = documents['headline_text'].map(preprocess)\n",
    "processed_docs[:10]"
   ]
  },
  {
   "cell_type": "markdown",
   "metadata": {},
   "source": [
    "# Word embedding\n",
    "Bag of Words on the Data\n",
    "Create a dictionary from ‘processed_docs’ containing the number of times a word appears in the training set."
   ]
  },
  {
   "cell_type": "code",
   "execution_count": null,
   "metadata": {},
   "outputs": [],
   "source": []
  },
  {
   "cell_type": "code",
   "execution_count": 10,
   "metadata": {},
   "outputs": [],
   "source": [
    "#Creating a vocabulary\n",
    "dictionary = gensim.corpora.Dictionary(processed_docs)"
   ]
  },
  {
   "cell_type": "code",
   "execution_count": 11,
   "metadata": {},
   "outputs": [
    {
     "name": "stdout",
     "output_type": "stream",
     "text": [
      "0 aba\n",
      "1 broadcast\n",
      "2 community\n",
      "3 decide\n",
      "4 licence\n",
      "5 act\n",
      "6 aware\n",
      "7 defamation\n",
      "8 witness\n",
      "9 call\n",
      "10 infrastructure\n"
     ]
    }
   ],
   "source": [
    "count = 0\n",
    "for k, v in dictionary.iteritems():\n",
    "    print(k, v)\n",
    "    count += 1\n",
    "    if count > 10:\n",
    "        break"
   ]
  },
  {
   "cell_type": "markdown",
   "metadata": {},
   "source": [
    "Gensim filter_extremes\n",
    "\n",
    "Filter out tokens that appear in\n",
    "\n",
    "    less than 15 documents (absolute number) or\n",
    "    more than 0.5 documents (fraction of total corpus size, not absolute number).\n",
    "    after the above two steps, keep only the first 100000 most frequent tokens."
   ]
  },
  {
   "cell_type": "code",
   "execution_count": 14,
   "metadata": {},
   "outputs": [],
   "source": [
    "dictionary.filter_extremes(no_below=15, no_above=0.5, keep_n=10000)"
   ]
  },
  {
   "cell_type": "markdown",
   "metadata": {},
   "source": [
    "# Gensim doc2bow\n",
    "For each document we create a dictionary reporting how many\n",
    "words and how many times those words appear. Save this to ‘bow_corpus’, then check our selected document earlier."
   ]
  },
  {
   "cell_type": "code",
   "execution_count": 15,
   "metadata": {},
   "outputs": [
    {
     "data": {
      "text/plain": [
       "[(114, 1), (176, 1), (207, 1), (425, 1), (580, 1)]"
      ]
     },
     "execution_count": 15,
     "metadata": {},
     "output_type": "execute_result"
    }
   ],
   "source": [
    "bow_corpus = [dictionary.doc2bow(doc) for doc in processed_docs]\n",
    "bow_corpus[4310]"
   ]
  },
  {
   "cell_type": "markdown",
   "metadata": {},
   "source": [
    "Preview Bag Of Words for our sample preprocessed document."
   ]
  },
  {
   "cell_type": "code",
   "execution_count": 16,
   "metadata": {},
   "outputs": [
    {
     "name": "stdout",
     "output_type": "stream",
     "text": [
      "Word 114 (\"govt\") appears 1 time.\n",
      "Word 176 (\"group\") appears 1 time.\n",
      "Word 207 (\"vote\") appears 1 time.\n",
      "Word 425 (\"local\") appears 1 time.\n",
      "Word 580 (\"want\") appears 1 time.\n"
     ]
    }
   ],
   "source": [
    "bow_doc_4310 = bow_corpus[4310]\n",
    "\n",
    "for i in range(len(bow_doc_4310)):\n",
    "    print(\"Word {} (\\\"{}\\\") appears {} time.\".format(bow_doc_4310[i][0], \n",
    "                                               dictionary[bow_doc_4310[i][0]], \n",
    "                                                     bow_doc_4310[i][1]))"
   ]
  },
  {
   "cell_type": "markdown",
   "metadata": {},
   "source": [
    "# TF-IDF\n",
    "\n",
    "Create tf-idf model object using models.TfidfModel on ‘bow_corpus’ and save it to ‘tfidf’, then apply transformation to the entire corpus and call it ‘corpus_tfidf’. Finally we preview TF-IDF scores for our first document."
   ]
  },
  {
   "cell_type": "code",
   "execution_count": 17,
   "metadata": {},
   "outputs": [
    {
     "name": "stdout",
     "output_type": "stream",
     "text": [
      "[(0, 0.49655634360283785), (1, 0.5786218695719839), (2, 0.6470150923130019)]\n"
     ]
    }
   ],
   "source": [
    "from gensim import corpora, models\n",
    "\n",
    "tfidf = models.TfidfModel(bow_corpus)\n",
    "corpus_tfidf = tfidf[bow_corpus]\n",
    "\n",
    "from pprint import pprint\n",
    "\n",
    "for doc in corpus_tfidf:\n",
    "    pprint(doc)\n",
    "    break"
   ]
  },
  {
   "cell_type": "code",
   "execution_count": null,
   "metadata": {},
   "outputs": [],
   "source": []
  },
  {
   "cell_type": "markdown",
   "metadata": {},
   "source": [
    "# Running LDA using Bag of Words\n",
    "Train our lda model using gensim.models.LdaMulticore and save it to ‘lda_model’"
   ]
  },
  {
   "cell_type": "code",
   "execution_count": 18,
   "metadata": {},
   "outputs": [],
   "source": [
    "lda_model = gensim.models.LdaMulticore(bow_corpus, num_topics=10, id2word=dictionary, passes=2, workers=2)"
   ]
  },
  {
   "cell_type": "code",
   "execution_count": null,
   "metadata": {},
   "outputs": [],
   "source": []
  },
  {
   "cell_type": "markdown",
   "metadata": {},
   "source": [
    "For each topic, we will explore the words occuring in that topic and its relative weight."
   ]
  },
  {
   "cell_type": "code",
   "execution_count": 19,
   "metadata": {},
   "outputs": [
    {
     "name": "stdout",
     "output_type": "stream",
     "text": [
      "Topic: 0 \n",
      "Words: 0.017*\"police\" + 0.017*\"cup\" + 0.017*\"probe\" + 0.014*\"world\" + 0.013*\"get\" + 0.012*\"day\" + 0.011*\"south\" + 0.011*\"bid\" + 0.010*\"home\" + 0.010*\"crash\"\n",
      "Topic: 1 \n",
      "Words: 0.039*\"govt\" + 0.018*\"pay\" + 0.016*\"urge\" + 0.014*\"iraqi\" + 0.014*\"lead\" + 0.012*\"new\" + 0.012*\"council\" + 0.011*\"service\" + 0.010*\"nsw\" + 0.010*\"win\"\n",
      "Topic: 2 \n",
      "Words: 0.029*\"sars\" + 0.017*\"welcome\" + 0.013*\"decision\" + 0.012*\"new\" + 0.011*\"fight\" + 0.011*\"force\" + 0.011*\"urge\" + 0.011*\"cut\" + 0.010*\"share\" + 0.009*\"talk\"\n",
      "Topic: 3 \n",
      "Words: 0.023*\"meet\" + 0.022*\"fund\" + 0.020*\"concern\" + 0.019*\"water\" + 0.018*\"boost\" + 0.017*\"seek\" + 0.015*\"council\" + 0.015*\"air\" + 0.013*\"hold\" + 0.013*\"rule\"\n",
      "Topic: 4 \n",
      "Words: 0.041*\"man\" + 0.031*\"face\" + 0.029*\"police\" + 0.028*\"kill\" + 0.026*\"charge\" + 0.016*\"war\" + 0.014*\"court\" + 0.013*\"murder\" + 0.013*\"iraq\" + 0.012*\"car\"\n",
      "Topic: 5 \n",
      "Words: 0.037*\"plan\" + 0.018*\"win\" + 0.014*\"vic\" + 0.014*\"end\" + 0.012*\"sydney\" + 0.012*\"govt\" + 0.012*\"search\" + 0.012*\"man\" + 0.010*\"miss\" + 0.010*\"urge\"\n",
      "Topic: 6 \n",
      "Words: 0.043*\"new\" + 0.026*\"police\" + 0.017*\"case\" + 0.013*\"hit\" + 0.012*\"return\" + 0.010*\"govt\" + 0.009*\"appeal\" + 0.008*\"second\" + 0.008*\"sars\" + 0.008*\"plan\"\n",
      "Topic: 7 \n",
      "Words: 0.017*\"toll\" + 0.016*\"budget\" + 0.015*\"rise\" + 0.013*\"race\" + 0.013*\"jail\" + 0.012*\"open\" + 0.012*\"spark\" + 0.011*\"ban\" + 0.009*\"death\" + 0.009*\"study\"\n",
      "Topic: 8 \n",
      "Words: 0.023*\"claim\" + 0.019*\"reject\" + 0.017*\"consider\" + 0.014*\"court\" + 0.014*\"baghdad\" + 0.012*\"china\" + 0.011*\"health\" + 0.009*\"take\" + 0.009*\"indigenous\" + 0.009*\"record\"\n",
      "Topic: 9 \n",
      "Words: 0.024*\"iraq\" + 0.017*\"hear\" + 0.016*\"troop\" + 0.012*\"bali\" + 0.011*\"deny\" + 0.011*\"call\" + 0.011*\"talk\" + 0.010*\"say\" + 0.009*\"bomb\" + 0.009*\"baghdad\"\n"
     ]
    }
   ],
   "source": [
    "for idx, topic in lda_model.print_topics(-1):\n",
    "    print('Topic: {} \\nWords: {}'.format(idx, topic))"
   ]
  },
  {
   "cell_type": "code",
   "execution_count": null,
   "metadata": {},
   "outputs": [],
   "source": []
  },
  {
   "cell_type": "markdown",
   "metadata": {},
   "source": [
    "# Running LDA using TF-IDF"
   ]
  },
  {
   "cell_type": "code",
   "execution_count": 20,
   "metadata": {},
   "outputs": [],
   "source": [
    "lda_model_tfidf = gensim.models.LdaMulticore(corpus_tfidf, num_topics=10, id2word=dictionary, passes=2, workers=4)\n"
   ]
  },
  {
   "cell_type": "code",
   "execution_count": 21,
   "metadata": {},
   "outputs": [
    {
     "name": "stdout",
     "output_type": "stream",
     "text": [
      "Topic: 0 Word: 0.013*\"water\" + 0.012*\"iraq\" + 0.011*\"say\" + 0.010*\"set\" + 0.010*\"call\" + 0.009*\"govt\" + 0.008*\"troop\" + 0.008*\"year\" + 0.007*\"vic\" + 0.007*\"school\"\n",
      "Topic: 1 Word: 0.013*\"win\" + 0.011*\"air\" + 0.011*\"aceh\" + 0.008*\"drought\" + 0.008*\"kill\" + 0.008*\"lead\" + 0.008*\"test\" + 0.007*\"govt\" + 0.007*\"put\" + 0.007*\"concern\"\n",
      "Topic: 2 Word: 0.011*\"hit\" + 0.008*\"save\" + 0.008*\"cut\" + 0.007*\"mayor\" + 0.007*\"french\" + 0.007*\"decision\" + 0.007*\"new\" + 0.007*\"change\" + 0.006*\"brumbies\" + 0.006*\"court\"\n",
      "Topic: 3 Word: 0.011*\"war\" + 0.010*\"govt\" + 0.007*\"lose\" + 0.007*\"australia\" + 0.007*\"bid\" + 0.007*\"nsw\" + 0.007*\"end\" + 0.007*\"council\" + 0.006*\"challenge\" + 0.006*\"claim\"\n",
      "Topic: 4 Word: 0.009*\"police\" + 0.008*\"death\" + 0.008*\"korea\" + 0.008*\"rescue\" + 0.007*\"defend\" + 0.007*\"north\" + 0.007*\"warn\" + 0.007*\"medicare\" + 0.007*\"doctor\" + 0.007*\"govt\"\n",
      "Topic: 5 Word: 0.014*\"man\" + 0.009*\"return\" + 0.008*\"hold\" + 0.008*\"police\" + 0.008*\"kill\" + 0.007*\"industry\" + 0.007*\"decision\" + 0.007*\"abuse\" + 0.006*\"child\" + 0.006*\"future\"\n",
      "Topic: 6 Word: 0.015*\"court\" + 0.012*\"claim\" + 0.011*\"face\" + 0.011*\"take\" + 0.010*\"charge\" + 0.009*\"get\" + 0.009*\"urge\" + 0.008*\"sign\" + 0.007*\"fight\" + 0.006*\"green\"\n",
      "Topic: 7 Word: 0.014*\"boost\" + 0.013*\"plan\" + 0.013*\"budget\" + 0.009*\"hop\" + 0.009*\"trial\" + 0.007*\"award\" + 0.007*\"world\" + 0.007*\"new\" + 0.007*\"cup\" + 0.006*\"govt\"\n",
      "Topic: 8 Word: 0.016*\"sars\" + 0.011*\"clear\" + 0.009*\"attack\" + 0.009*\"dead\" + 0.008*\"home\" + 0.008*\"case\" + 0.007*\"team\" + 0.007*\"title\" + 0.007*\"pull\" + 0.007*\"quit\"\n",
      "Topic: 9 Word: 0.017*\"police\" + 0.012*\"man\" + 0.010*\"charge\" + 0.009*\"fund\" + 0.009*\"seek\" + 0.009*\"consider\" + 0.008*\"new\" + 0.008*\"help\" + 0.008*\"job\" + 0.007*\"hospital\"\n"
     ]
    }
   ],
   "source": [
    "for idx, topic in lda_model_tfidf.print_topics(-1):\n",
    "    print('Topic: {} Word: {}'.format(idx, topic))"
   ]
  },
  {
   "cell_type": "code",
   "execution_count": null,
   "metadata": {},
   "outputs": [],
   "source": []
  },
  {
   "cell_type": "markdown",
   "metadata": {},
   "source": [
    "# Performance evaluation by classifying sample document using LDA Bag of Words model\n",
    "\n",
    "We will check where our test document would be classified."
   ]
  },
  {
   "cell_type": "code",
   "execution_count": 22,
   "metadata": {},
   "outputs": [
    {
     "data": {
      "text/plain": [
       "['ratepayers', 'group', 'want', 'compulsory', 'local', 'govt', 'vote']"
      ]
     },
     "execution_count": 22,
     "metadata": {},
     "output_type": "execute_result"
    }
   ],
   "source": [
    "processed_docs[4310]"
   ]
  },
  {
   "cell_type": "code",
   "execution_count": 23,
   "metadata": {},
   "outputs": [
    {
     "name": "stdout",
     "output_type": "stream",
     "text": [
      "\n",
      "Score: 0.5576344132423401\t \n",
      "Topic: 0.017*\"toll\" + 0.016*\"budget\" + 0.015*\"rise\" + 0.013*\"race\" + 0.013*\"jail\" + 0.012*\"open\" + 0.012*\"spark\" + 0.011*\"ban\" + 0.009*\"death\" + 0.009*\"study\"\n",
      "\n",
      "Score: 0.30899739265441895\t \n",
      "Topic: 0.039*\"govt\" + 0.018*\"pay\" + 0.016*\"urge\" + 0.014*\"iraqi\" + 0.014*\"lead\" + 0.012*\"new\" + 0.012*\"council\" + 0.011*\"service\" + 0.010*\"nsw\" + 0.010*\"win\"\n",
      "\n",
      "Score: 0.01667516678571701\t \n",
      "Topic: 0.029*\"sars\" + 0.017*\"welcome\" + 0.013*\"decision\" + 0.012*\"new\" + 0.011*\"fight\" + 0.011*\"force\" + 0.011*\"urge\" + 0.011*\"cut\" + 0.010*\"share\" + 0.009*\"talk\"\n",
      "\n",
      "Score: 0.01667369343340397\t \n",
      "Topic: 0.024*\"iraq\" + 0.017*\"hear\" + 0.016*\"troop\" + 0.012*\"bali\" + 0.011*\"deny\" + 0.011*\"call\" + 0.011*\"talk\" + 0.010*\"say\" + 0.009*\"bomb\" + 0.009*\"baghdad\"\n",
      "\n",
      "Score: 0.016671519726514816\t \n",
      "Topic: 0.043*\"new\" + 0.026*\"police\" + 0.017*\"case\" + 0.013*\"hit\" + 0.012*\"return\" + 0.010*\"govt\" + 0.009*\"appeal\" + 0.008*\"second\" + 0.008*\"sars\" + 0.008*\"plan\"\n",
      "\n",
      "Score: 0.016670450568199158\t \n",
      "Topic: 0.037*\"plan\" + 0.018*\"win\" + 0.014*\"vic\" + 0.014*\"end\" + 0.012*\"sydney\" + 0.012*\"govt\" + 0.012*\"search\" + 0.012*\"man\" + 0.010*\"miss\" + 0.010*\"urge\"\n",
      "\n",
      "Score: 0.01667023077607155\t \n",
      "Topic: 0.023*\"claim\" + 0.019*\"reject\" + 0.017*\"consider\" + 0.014*\"court\" + 0.014*\"baghdad\" + 0.012*\"china\" + 0.011*\"health\" + 0.009*\"take\" + 0.009*\"indigenous\" + 0.009*\"record\"\n",
      "\n",
      "Score: 0.01666998863220215\t \n",
      "Topic: 0.023*\"meet\" + 0.022*\"fund\" + 0.020*\"concern\" + 0.019*\"water\" + 0.018*\"boost\" + 0.017*\"seek\" + 0.015*\"council\" + 0.015*\"air\" + 0.013*\"hold\" + 0.013*\"rule\"\n",
      "\n",
      "Score: 0.01666884310543537\t \n",
      "Topic: 0.017*\"police\" + 0.017*\"cup\" + 0.017*\"probe\" + 0.014*\"world\" + 0.013*\"get\" + 0.012*\"day\" + 0.011*\"south\" + 0.011*\"bid\" + 0.010*\"home\" + 0.010*\"crash\"\n",
      "\n",
      "Score: 0.016668304800987244\t \n",
      "Topic: 0.041*\"man\" + 0.031*\"face\" + 0.029*\"police\" + 0.028*\"kill\" + 0.026*\"charge\" + 0.016*\"war\" + 0.014*\"court\" + 0.013*\"murder\" + 0.013*\"iraq\" + 0.012*\"car\"\n"
     ]
    }
   ],
   "source": [
    "for index, score in sorted(lda_model[bow_corpus[4310]], key=lambda tup: -1*tup[1]):\n",
    "    print(\"\\nScore: {}\\t \\nTopic: {}\".format(score, lda_model.print_topic(index, 10)))"
   ]
  },
  {
   "cell_type": "code",
   "execution_count": null,
   "metadata": {},
   "outputs": [],
   "source": []
  },
  {
   "cell_type": "markdown",
   "metadata": {},
   "source": [
    "# Performance evaluation by classifying sample document using LDA TF-IDF model."
   ]
  },
  {
   "cell_type": "code",
   "execution_count": 24,
   "metadata": {},
   "outputs": [
    {
     "name": "stdout",
     "output_type": "stream",
     "text": [
      "\n",
      "Score: 0.4866695702075958\t \n",
      "Topic: 0.014*\"man\" + 0.009*\"return\" + 0.008*\"hold\" + 0.008*\"police\" + 0.008*\"kill\" + 0.007*\"industry\" + 0.007*\"decision\" + 0.007*\"abuse\" + 0.006*\"child\" + 0.006*\"future\"\n",
      "\n",
      "Score: 0.37995463609695435\t \n",
      "Topic: 0.009*\"police\" + 0.008*\"death\" + 0.008*\"korea\" + 0.008*\"rescue\" + 0.007*\"defend\" + 0.007*\"north\" + 0.007*\"warn\" + 0.007*\"medicare\" + 0.007*\"doctor\" + 0.007*\"govt\"\n",
      "\n",
      "Score: 0.01667529158294201\t \n",
      "Topic: 0.015*\"court\" + 0.012*\"claim\" + 0.011*\"face\" + 0.011*\"take\" + 0.010*\"charge\" + 0.009*\"get\" + 0.009*\"urge\" + 0.008*\"sign\" + 0.007*\"fight\" + 0.006*\"green\"\n",
      "\n",
      "Score: 0.0166742242872715\t \n",
      "Topic: 0.011*\"war\" + 0.010*\"govt\" + 0.007*\"lose\" + 0.007*\"australia\" + 0.007*\"bid\" + 0.007*\"nsw\" + 0.007*\"end\" + 0.007*\"council\" + 0.006*\"challenge\" + 0.006*\"claim\"\n",
      "\n",
      "Score: 0.016673095524311066\t \n",
      "Topic: 0.017*\"police\" + 0.012*\"man\" + 0.010*\"charge\" + 0.009*\"fund\" + 0.009*\"seek\" + 0.009*\"consider\" + 0.008*\"new\" + 0.008*\"help\" + 0.008*\"job\" + 0.007*\"hospital\"\n",
      "\n",
      "Score: 0.01667160913348198\t \n",
      "Topic: 0.014*\"boost\" + 0.013*\"plan\" + 0.013*\"budget\" + 0.009*\"hop\" + 0.009*\"trial\" + 0.007*\"award\" + 0.007*\"world\" + 0.007*\"new\" + 0.007*\"cup\" + 0.006*\"govt\"\n",
      "\n",
      "Score: 0.016671238467097282\t \n",
      "Topic: 0.013*\"win\" + 0.011*\"air\" + 0.011*\"aceh\" + 0.008*\"drought\" + 0.008*\"kill\" + 0.008*\"lead\" + 0.008*\"test\" + 0.007*\"govt\" + 0.007*\"put\" + 0.007*\"concern\"\n",
      "\n",
      "Score: 0.016670910641551018\t \n",
      "Topic: 0.011*\"hit\" + 0.008*\"save\" + 0.008*\"cut\" + 0.007*\"mayor\" + 0.007*\"french\" + 0.007*\"decision\" + 0.007*\"new\" + 0.007*\"change\" + 0.006*\"brumbies\" + 0.006*\"court\"\n",
      "\n",
      "Score: 0.016670603305101395\t \n",
      "Topic: 0.013*\"water\" + 0.012*\"iraq\" + 0.011*\"say\" + 0.010*\"set\" + 0.010*\"call\" + 0.009*\"govt\" + 0.008*\"troop\" + 0.008*\"year\" + 0.007*\"vic\" + 0.007*\"school\"\n",
      "\n",
      "Score: 0.016668863594532013\t \n",
      "Topic: 0.016*\"sars\" + 0.011*\"clear\" + 0.009*\"attack\" + 0.009*\"dead\" + 0.008*\"home\" + 0.008*\"case\" + 0.007*\"team\" + 0.007*\"title\" + 0.007*\"pull\" + 0.007*\"quit\"\n"
     ]
    }
   ],
   "source": [
    "for index, score in sorted(lda_model_tfidf[bow_corpus[4310]], key=lambda tup: -1*tup[1]):\n",
    "    print(\"\\nScore: {}\\t \\nTopic: {}\".format(score, lda_model_tfidf.print_topic(index, 10)))"
   ]
  },
  {
   "cell_type": "code",
   "execution_count": null,
   "metadata": {},
   "outputs": [],
   "source": []
  },
  {
   "cell_type": "markdown",
   "metadata": {},
   "source": [
    "# Testing model on unseen document"
   ]
  },
  {
   "cell_type": "code",
   "execution_count": 25,
   "metadata": {},
   "outputs": [
    {
     "name": "stdout",
     "output_type": "stream",
     "text": [
      "Score: 0.4002724885940552\t Topic: 0.017*\"police\" + 0.017*\"cup\" + 0.017*\"probe\" + 0.014*\"world\" + 0.013*\"get\"\n",
      "Score: 0.29640597105026245\t Topic: 0.023*\"claim\" + 0.019*\"reject\" + 0.017*\"consider\" + 0.014*\"court\" + 0.014*\"baghdad\"\n",
      "Score: 0.16329114139080048\t Topic: 0.037*\"plan\" + 0.018*\"win\" + 0.014*\"vic\" + 0.014*\"end\" + 0.012*\"sydney\"\n",
      "Score: 0.02000841125845909\t Topic: 0.024*\"iraq\" + 0.017*\"hear\" + 0.016*\"troop\" + 0.012*\"bali\" + 0.011*\"deny\"\n",
      "Score: 0.020007459446787834\t Topic: 0.041*\"man\" + 0.031*\"face\" + 0.029*\"police\" + 0.028*\"kill\" + 0.026*\"charge\"\n",
      "Score: 0.020003758370876312\t Topic: 0.039*\"govt\" + 0.018*\"pay\" + 0.016*\"urge\" + 0.014*\"iraqi\" + 0.014*\"lead\"\n",
      "Score: 0.020003097131848335\t Topic: 0.017*\"toll\" + 0.016*\"budget\" + 0.015*\"rise\" + 0.013*\"race\" + 0.013*\"jail\"\n",
      "Score: 0.020002862438559532\t Topic: 0.023*\"meet\" + 0.022*\"fund\" + 0.020*\"concern\" + 0.019*\"water\" + 0.018*\"boost\"\n",
      "Score: 0.02000257931649685\t Topic: 0.043*\"new\" + 0.026*\"police\" + 0.017*\"case\" + 0.013*\"hit\" + 0.012*\"return\"\n",
      "Score: 0.020002217963337898\t Topic: 0.029*\"sars\" + 0.017*\"welcome\" + 0.013*\"decision\" + 0.012*\"new\" + 0.011*\"fight\"\n"
     ]
    }
   ],
   "source": [
    "unseen_document = 'stock market crashed to its lowest 52 week'\n",
    "bow_vector = dictionary.doc2bow(preprocess(unseen_document))\n",
    "for index, score in sorted(lda_model[bow_vector], key=lambda tup: -1*tup[1]):\n",
    "    print(\"Score: {}\\t Topic: {}\".format(score, lda_model.print_topic(index, 5)))"
   ]
  }
 ],
 "metadata": {
  "kernelspec": {
   "display_name": "Python 3 (ipykernel)",
   "language": "python",
   "name": "python3"
  },
  "language_info": {
   "codemirror_mode": {
    "name": "ipython",
    "version": 3
   },
   "file_extension": ".py",
   "mimetype": "text/x-python",
   "name": "python",
   "nbconvert_exporter": "python",
   "pygments_lexer": "ipython3",
   "version": "3.9.13"
  }
 },
 "nbformat": 4,
 "nbformat_minor": 2
}
