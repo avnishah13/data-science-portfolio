{
 "cells": [
  {
   "cell_type": "code",
   "execution_count": 2,
   "id": "df0ec7bd",
   "metadata": {},
   "outputs": [],
   "source": [
    "from sklearn.feature_extraction.text import TfidfVectorizer\n",
    "from sklearn.cluster import KMeans\n",
    "from sklearn.metrics import adjusted_rand_score\n",
    "from yellowbrick.cluster import KElbowVisualizer\n",
    "from sklearn.model_selection import train_test_split\n",
    "from sklearn.svm import LinearSVC\n",
    "from sklearn.linear_model import LogisticRegression\n",
    "from sklearn.metrics import classification_report\n",
    "from sklearn.naive_bayes import MultinomialNB\n",
    "from sklearn.metrics import classification_report, f1_score, accuracy_score, confusion_matrix\n",
    "from sklearn.metrics import roc_curve, auc, roc_auc_score\n",
    "\n",
    "import pandas as pd\n",
    "import numpy as np\n",
    "import re\n",
    "\n",
    "import nltk\n",
    "from bs4 import BeautifulSoup\n",
    "from nltk.stem import WordNetLemmatizer\n",
    "from nltk.corpus import stopwords\n",
    "from nltk.tokenize import word_tokenize\n",
    "from nltk.probability import FreqDist\n",
    "from nltk.stem import WordNetLemmatizer, SnowballStemmer\n",
    "from nltk.stem.porter import *\n",
    "\n",
    "import gensim\n",
    "from gensim.utils import simple_preprocess\n",
    "from gensim import corpora, models\n",
    "from gensim.parsing.preprocessing import STOPWORDS\n",
    "\n",
    "np.random.seed(2018)\n",
    "from pprint import pprint\n",
    "\n",
    "from PIL import Image\n",
    "from wordcloud import WordCloud, STOPWORDS, ImageColorGenerator\n",
    "import matplotlib.pyplot as plt\n",
    "import seaborn as sns"
   ]
  },
  {
   "cell_type": "code",
   "execution_count": 3,
   "id": "a9b650e8",
   "metadata": {},
   "outputs": [
    {
     "data": {
      "text/html": [
       "<div>\n",
       "<style scoped>\n",
       "    .dataframe tbody tr th:only-of-type {\n",
       "        vertical-align: middle;\n",
       "    }\n",
       "\n",
       "    .dataframe tbody tr th {\n",
       "        vertical-align: top;\n",
       "    }\n",
       "\n",
       "    .dataframe thead th {\n",
       "        text-align: right;\n",
       "    }\n",
       "</style>\n",
       "<table border=\"1\" class=\"dataframe\">\n",
       "  <thead>\n",
       "    <tr style=\"text-align: right;\">\n",
       "      <th></th>\n",
       "      <th>tweet</th>\n",
       "      <th>category</th>\n",
       "    </tr>\n",
       "  </thead>\n",
       "  <tbody>\n",
       "    <tr>\n",
       "      <th>0</th>\n",
       "      <td>wrong that day not brahmin because you are bra...</td>\n",
       "      <td>0</td>\n",
       "    </tr>\n",
       "    <tr>\n",
       "      <th>1</th>\n",
       "      <td>clear evidence that pakistani was involved th...</td>\n",
       "      <td>1</td>\n",
       "    </tr>\n",
       "    <tr>\n",
       "      <th>2</th>\n",
       "      <td>have met him last month great guy</td>\n",
       "      <td>1</td>\n",
       "    </tr>\n",
       "    <tr>\n",
       "      <th>3</th>\n",
       "      <td>team full ppr pick crowell nyg lewis @ nyj sa...</td>\n",
       "      <td>1</td>\n",
       "    </tr>\n",
       "    <tr>\n",
       "      <th>4</th>\n",
       "      <td>wow just wow don even have any words say this</td>\n",
       "      <td>1</td>\n",
       "    </tr>\n",
       "  </tbody>\n",
       "</table>\n",
       "</div>"
      ],
      "text/plain": [
       "                                               tweet  category\n",
       "0  wrong that day not brahmin because you are bra...         0\n",
       "1   clear evidence that pakistani was involved th...         1\n",
       "2                 have met him last month great guy          1\n",
       "3   team full ppr pick crowell nyg lewis @ nyj sa...         1\n",
       "4     wow just wow don even have any words say this          1"
      ]
     },
     "execution_count": 3,
     "metadata": {},
     "output_type": "execute_result"
    }
   ],
   "source": [
    "data = pd.read_csv(r\"C:\\Users\\Tanmay\\Downloads\\Reddit_Data.csv\")\n",
    "data.rename(columns = {'clean_comment':'tweet'}, inplace = True)\n",
    "data = data.sample(frac = 1)\n",
    "data = data.reset_index()\n",
    "data = data[['tweet', 'category']]\n",
    "data = data.loc[data['category'].isin([1, -1])]\n",
    "data=data.replace(-1,0)\n",
    "data.head()"
   ]
  },
  {
   "cell_type": "code",
   "execution_count": 4,
   "id": "16a16761",
   "metadata": {},
   "outputs": [
    {
     "data": {
      "text/html": [
       "<div>\n",
       "<style scoped>\n",
       "    .dataframe tbody tr th:only-of-type {\n",
       "        vertical-align: middle;\n",
       "    }\n",
       "\n",
       "    .dataframe tbody tr th {\n",
       "        vertical-align: top;\n",
       "    }\n",
       "\n",
       "    .dataframe thead th {\n",
       "        text-align: right;\n",
       "    }\n",
       "</style>\n",
       "<table border=\"1\" class=\"dataframe\">\n",
       "  <thead>\n",
       "    <tr style=\"text-align: right;\">\n",
       "      <th></th>\n",
       "      <th>tweet</th>\n",
       "      <th>category</th>\n",
       "    </tr>\n",
       "  </thead>\n",
       "  <tbody>\n",
       "    <tr>\n",
       "      <th>0</th>\n",
       "      <td>wrong that day not brahmin because you are bra...</td>\n",
       "      <td>0</td>\n",
       "    </tr>\n",
       "    <tr>\n",
       "      <th>1</th>\n",
       "      <td>clear evidence that pakistani was involved th...</td>\n",
       "      <td>1</td>\n",
       "    </tr>\n",
       "    <tr>\n",
       "      <th>2</th>\n",
       "      <td>have met him last month great guy</td>\n",
       "      <td>1</td>\n",
       "    </tr>\n",
       "    <tr>\n",
       "      <th>3</th>\n",
       "      <td>team full ppr pick crowell nyg lewis @ nyj sa...</td>\n",
       "      <td>1</td>\n",
       "    </tr>\n",
       "    <tr>\n",
       "      <th>4</th>\n",
       "      <td>wow just wow don even have any words say this</td>\n",
       "      <td>1</td>\n",
       "    </tr>\n",
       "    <tr>\n",
       "      <th>...</th>\n",
       "      <td>...</td>\n",
       "      <td>...</td>\n",
       "    </tr>\n",
       "    <tr>\n",
       "      <th>24102</th>\n",
       "      <td>individual muslims are not bad islamic ideology</td>\n",
       "      <td>1</td>\n",
       "    </tr>\n",
       "    <tr>\n",
       "      <th>24103</th>\n",
       "      <td>strengths kohli weaknesses kohli love kohli l...</td>\n",
       "      <td>1</td>\n",
       "    </tr>\n",
       "    <tr>\n",
       "      <th>24104</th>\n",
       "      <td>isn quite fast</td>\n",
       "      <td>1</td>\n",
       "    </tr>\n",
       "    <tr>\n",
       "      <th>24105</th>\n",
       "      <td>demonitization fails incorrect not question f...</td>\n",
       "      <td>0</td>\n",
       "    </tr>\n",
       "    <tr>\n",
       "      <th>24106</th>\n",
       "      <td>have told wife keep producing children not pl...</td>\n",
       "      <td>1</td>\n",
       "    </tr>\n",
       "  </tbody>\n",
       "</table>\n",
       "<p>24107 rows × 2 columns</p>\n",
       "</div>"
      ],
      "text/plain": [
       "                                                   tweet  category\n",
       "0      wrong that day not brahmin because you are bra...         0\n",
       "1       clear evidence that pakistani was involved th...         1\n",
       "2                     have met him last month great guy          1\n",
       "3       team full ppr pick crowell nyg lewis @ nyj sa...         1\n",
       "4         wow just wow don even have any words say this          1\n",
       "...                                                  ...       ...\n",
       "24102   individual muslims are not bad islamic ideology          1\n",
       "24103   strengths kohli weaknesses kohli love kohli l...         1\n",
       "24104                                    isn quite fast          1\n",
       "24105   demonitization fails incorrect not question f...         0\n",
       "24106   have told wife keep producing children not pl...         1\n",
       "\n",
       "[24107 rows x 2 columns]"
      ]
     },
     "execution_count": 4,
     "metadata": {},
     "output_type": "execute_result"
    }
   ],
   "source": [
    "#Preprocessing\n",
    "#Removing null values\n",
    "data=data.dropna()\n",
    "data = data.reset_index(drop=True)\n",
    "data"
   ]
  },
  {
   "cell_type": "code",
   "execution_count": 5,
   "id": "7d2eab1f",
   "metadata": {},
   "outputs": [
    {
     "data": {
      "text/html": [
       "<div>\n",
       "<style scoped>\n",
       "    .dataframe tbody tr th:only-of-type {\n",
       "        vertical-align: middle;\n",
       "    }\n",
       "\n",
       "    .dataframe tbody tr th {\n",
       "        vertical-align: top;\n",
       "    }\n",
       "\n",
       "    .dataframe thead th {\n",
       "        text-align: right;\n",
       "    }\n",
       "</style>\n",
       "<table border=\"1\" class=\"dataframe\">\n",
       "  <thead>\n",
       "    <tr style=\"text-align: right;\">\n",
       "      <th></th>\n",
       "      <th>tweet</th>\n",
       "      <th>category</th>\n",
       "      <th>pre_process</th>\n",
       "    </tr>\n",
       "  </thead>\n",
       "  <tbody>\n",
       "    <tr>\n",
       "      <th>0</th>\n",
       "      <td>wrong that day not brahmin because you are bra...</td>\n",
       "      <td>0</td>\n",
       "      <td>wrong that day not brahmin because you are bra...</td>\n",
       "    </tr>\n",
       "    <tr>\n",
       "      <th>1</th>\n",
       "      <td>clear evidence that pakistani was involved th...</td>\n",
       "      <td>1</td>\n",
       "      <td>clear evidence that pakistani was involved the...</td>\n",
       "    </tr>\n",
       "    <tr>\n",
       "      <th>2</th>\n",
       "      <td>have met him last month great guy</td>\n",
       "      <td>1</td>\n",
       "      <td>have met him last month great guy</td>\n",
       "    </tr>\n",
       "    <tr>\n",
       "      <th>3</th>\n",
       "      <td>team full ppr pick crowell nyg lewis @ nyj sa...</td>\n",
       "      <td>1</td>\n",
       "      <td>team full ppr pick crowell nyg lewis @ nyj san...</td>\n",
       "    </tr>\n",
       "    <tr>\n",
       "      <th>4</th>\n",
       "      <td>wow just wow don even have any words say this</td>\n",
       "      <td>1</td>\n",
       "      <td>wow just wow don even have any words say this</td>\n",
       "    </tr>\n",
       "  </tbody>\n",
       "</table>\n",
       "</div>"
      ],
      "text/plain": [
       "                                               tweet  category  \\\n",
       "0  wrong that day not brahmin because you are bra...         0   \n",
       "1   clear evidence that pakistani was involved th...         1   \n",
       "2                 have met him last month great guy          1   \n",
       "3   team full ppr pick crowell nyg lewis @ nyj sa...         1   \n",
       "4     wow just wow don even have any words say this          1   \n",
       "\n",
       "                                         pre_process  \n",
       "0  wrong that day not brahmin because you are bra...  \n",
       "1  clear evidence that pakistani was involved the...  \n",
       "2                  have met him last month great guy  \n",
       "3  team full ppr pick crowell nyg lewis @ nyj san...  \n",
       "4      wow just wow don even have any words say this  "
      ]
     },
     "execution_count": 5,
     "metadata": {},
     "output_type": "execute_result"
    }
   ],
   "source": [
    "#Lower casing\n",
    "data['pre_process'] = data['tweet'].apply(lambda x: ' '.join(x.lower() for x in str(x).split()))\n",
    "data.head()"
   ]
  },
  {
   "cell_type": "code",
   "execution_count": 6,
   "id": "7e2c8fb3",
   "metadata": {},
   "outputs": [
    {
     "name": "stderr",
     "output_type": "stream",
     "text": [
      "C:\\Users\\shahv\\anaconda3\\lib\\site-packages\\bs4\\__init__.py:435: MarkupResemblesLocatorWarning: The input looks more like a filename than markup. You may want to open this file and pass the filehandle into Beautiful Soup.\n",
      "  warnings.warn(\n"
     ]
    },
    {
     "data": {
      "text/html": [
       "<div>\n",
       "<style scoped>\n",
       "    .dataframe tbody tr th:only-of-type {\n",
       "        vertical-align: middle;\n",
       "    }\n",
       "\n",
       "    .dataframe tbody tr th {\n",
       "        vertical-align: top;\n",
       "    }\n",
       "\n",
       "    .dataframe thead th {\n",
       "        text-align: right;\n",
       "    }\n",
       "</style>\n",
       "<table border=\"1\" class=\"dataframe\">\n",
       "  <thead>\n",
       "    <tr style=\"text-align: right;\">\n",
       "      <th></th>\n",
       "      <th>tweet</th>\n",
       "      <th>category</th>\n",
       "      <th>pre_process</th>\n",
       "    </tr>\n",
       "  </thead>\n",
       "  <tbody>\n",
       "    <tr>\n",
       "      <th>0</th>\n",
       "      <td>wrong that day not brahmin because you are bra...</td>\n",
       "      <td>0</td>\n",
       "      <td>wrong that day not brahmin because you are bra...</td>\n",
       "    </tr>\n",
       "    <tr>\n",
       "      <th>1</th>\n",
       "      <td>clear evidence that pakistani was involved th...</td>\n",
       "      <td>1</td>\n",
       "      <td>clear evidence that pakistani was involved the...</td>\n",
       "    </tr>\n",
       "    <tr>\n",
       "      <th>2</th>\n",
       "      <td>have met him last month great guy</td>\n",
       "      <td>1</td>\n",
       "      <td>have met him last month great guy</td>\n",
       "    </tr>\n",
       "    <tr>\n",
       "      <th>3</th>\n",
       "      <td>team full ppr pick crowell nyg lewis @ nyj sa...</td>\n",
       "      <td>1</td>\n",
       "      <td>team full ppr pick crowell nyg lewis @ nyj san...</td>\n",
       "    </tr>\n",
       "    <tr>\n",
       "      <th>4</th>\n",
       "      <td>wow just wow don even have any words say this</td>\n",
       "      <td>1</td>\n",
       "      <td>wow just wow don even have any words say this</td>\n",
       "    </tr>\n",
       "  </tbody>\n",
       "</table>\n",
       "</div>"
      ],
      "text/plain": [
       "                                               tweet  category  \\\n",
       "0  wrong that day not brahmin because you are bra...         0   \n",
       "1   clear evidence that pakistani was involved th...         1   \n",
       "2                 have met him last month great guy          1   \n",
       "3   team full ppr pick crowell nyg lewis @ nyj sa...         1   \n",
       "4     wow just wow don even have any words say this          1   \n",
       "\n",
       "                                         pre_process  \n",
       "0  wrong that day not brahmin because you are bra...  \n",
       "1  clear evidence that pakistani was involved the...  \n",
       "2                  have met him last month great guy  \n",
       "3  team full ppr pick crowell nyg lewis @ nyj san...  \n",
       "4      wow just wow don even have any words say this  "
      ]
     },
     "execution_count": 6,
     "metadata": {},
     "output_type": "execute_result"
    }
   ],
   "source": [
    "#Remove the HTML tags, URLs and usernames from the reviews.\n",
    "data['pre_process']=data['pre_process'].apply(lambda x: BeautifulSoup(x).get_text())\n",
    "data['pre_process']=data['pre_process'].apply(lambda x: re.sub(r'http\\S+', '', x))\n",
    "data['pre_process']=data['pre_process'].apply(lambda x: re.sub(r'@\\S+', '', x))\n",
    "data.head()"
   ]
  },
  {
   "cell_type": "code",
   "execution_count": 7,
   "id": "6623a4ff",
   "metadata": {},
   "outputs": [
    {
     "data": {
      "text/html": [
       "<div>\n",
       "<style scoped>\n",
       "    .dataframe tbody tr th:only-of-type {\n",
       "        vertical-align: middle;\n",
       "    }\n",
       "\n",
       "    .dataframe tbody tr th {\n",
       "        vertical-align: top;\n",
       "    }\n",
       "\n",
       "    .dataframe thead th {\n",
       "        text-align: right;\n",
       "    }\n",
       "</style>\n",
       "<table border=\"1\" class=\"dataframe\">\n",
       "  <thead>\n",
       "    <tr style=\"text-align: right;\">\n",
       "      <th></th>\n",
       "      <th>tweet</th>\n",
       "      <th>category</th>\n",
       "      <th>pre_process</th>\n",
       "    </tr>\n",
       "  </thead>\n",
       "  <tbody>\n",
       "    <tr>\n",
       "      <th>0</th>\n",
       "      <td>wrong that day not brahmin because you are bra...</td>\n",
       "      <td>0</td>\n",
       "      <td>wrong that day not brahmin because you are bra...</td>\n",
       "    </tr>\n",
       "    <tr>\n",
       "      <th>1</th>\n",
       "      <td>clear evidence that pakistani was involved th...</td>\n",
       "      <td>1</td>\n",
       "      <td>clear evidence that pakistani was involved the...</td>\n",
       "    </tr>\n",
       "    <tr>\n",
       "      <th>2</th>\n",
       "      <td>have met him last month great guy</td>\n",
       "      <td>1</td>\n",
       "      <td>have met him last month great guy</td>\n",
       "    </tr>\n",
       "    <tr>\n",
       "      <th>3</th>\n",
       "      <td>team full ppr pick crowell nyg lewis @ nyj sa...</td>\n",
       "      <td>1</td>\n",
       "      <td>team full ppr pick crowell nyg lewis @ nyj san...</td>\n",
       "    </tr>\n",
       "    <tr>\n",
       "      <th>4</th>\n",
       "      <td>wow just wow don even have any words say this</td>\n",
       "      <td>1</td>\n",
       "      <td>wow just wow don even have any words say this</td>\n",
       "    </tr>\n",
       "  </tbody>\n",
       "</table>\n",
       "</div>"
      ],
      "text/plain": [
       "                                               tweet  category  \\\n",
       "0  wrong that day not brahmin because you are bra...         0   \n",
       "1   clear evidence that pakistani was involved th...         1   \n",
       "2                 have met him last month great guy          1   \n",
       "3   team full ppr pick crowell nyg lewis @ nyj sa...         1   \n",
       "4     wow just wow don even have any words say this          1   \n",
       "\n",
       "                                         pre_process  \n",
       "0  wrong that day not brahmin because you are bra...  \n",
       "1  clear evidence that pakistani was involved the...  \n",
       "2                  have met him last month great guy  \n",
       "3  team full ppr pick crowell nyg lewis @ nyj san...  \n",
       "4      wow just wow don even have any words say this  "
      ]
     },
     "execution_count": 7,
     "metadata": {},
     "output_type": "execute_result"
    }
   ],
   "source": [
    "#Removing word contractions\n",
    "def contractions(s):\n",
    "    s = re.sub(r\"won't\", \"will not\",s)\n",
    "    s = re.sub(r\"would't\", \"would not\",s)\n",
    "    s = re.sub(r\"could't\", \"could not\",s)\n",
    "    s = re.sub(r\"\\'d\", \" would\",s)\n",
    "    s = re.sub(r\"can\\'t\", \"can not\",s)\n",
    "    s = re.sub(r\"n\\'t\", \" not\", s)\n",
    "    s= re.sub(r\"\\'re\", \" are\", s)\n",
    "    s = re.sub(r\"\\'s\", \" is\", s)\n",
    "    s = re.sub(r\"\\'ll\", \" will\", s)\n",
    "    s = re.sub(r\"\\'t\", \" not\", s)\n",
    "    s = re.sub(r\"\\'ve\", \" have\", s)\n",
    "    s = re.sub(r\"\\'m\", \" am\", s)\n",
    "    return s\n",
    "data['pre_process']=data['pre_process'].apply(lambda x:contractions(x))\n",
    "data.head()"
   ]
  },
  {
   "cell_type": "code",
   "execution_count": 8,
   "id": "29f6f841",
   "metadata": {},
   "outputs": [
    {
     "data": {
      "text/html": [
       "<div>\n",
       "<style scoped>\n",
       "    .dataframe tbody tr th:only-of-type {\n",
       "        vertical-align: middle;\n",
       "    }\n",
       "\n",
       "    .dataframe tbody tr th {\n",
       "        vertical-align: top;\n",
       "    }\n",
       "\n",
       "    .dataframe thead th {\n",
       "        text-align: right;\n",
       "    }\n",
       "</style>\n",
       "<table border=\"1\" class=\"dataframe\">\n",
       "  <thead>\n",
       "    <tr style=\"text-align: right;\">\n",
       "      <th></th>\n",
       "      <th>tweet</th>\n",
       "      <th>category</th>\n",
       "      <th>pre_process</th>\n",
       "    </tr>\n",
       "  </thead>\n",
       "  <tbody>\n",
       "    <tr>\n",
       "      <th>0</th>\n",
       "      <td>wrong that day not brahmin because you are bra...</td>\n",
       "      <td>0</td>\n",
       "      <td>wrong that day not brahmin because you are bra...</td>\n",
       "    </tr>\n",
       "    <tr>\n",
       "      <th>1</th>\n",
       "      <td>clear evidence that pakistani was involved th...</td>\n",
       "      <td>1</td>\n",
       "      <td>clear evidence that pakistani was involved the...</td>\n",
       "    </tr>\n",
       "    <tr>\n",
       "      <th>2</th>\n",
       "      <td>have met him last month great guy</td>\n",
       "      <td>1</td>\n",
       "      <td>have met him last month great guy</td>\n",
       "    </tr>\n",
       "    <tr>\n",
       "      <th>3</th>\n",
       "      <td>team full ppr pick crowell nyg lewis @ nyj sa...</td>\n",
       "      <td>1</td>\n",
       "      <td>team full ppr pick crowell nyg lewis  nyj sanu...</td>\n",
       "    </tr>\n",
       "    <tr>\n",
       "      <th>4</th>\n",
       "      <td>wow just wow don even have any words say this</td>\n",
       "      <td>1</td>\n",
       "      <td>wow just wow don even have any words say this</td>\n",
       "    </tr>\n",
       "  </tbody>\n",
       "</table>\n",
       "</div>"
      ],
      "text/plain": [
       "                                               tweet  category  \\\n",
       "0  wrong that day not brahmin because you are bra...         0   \n",
       "1   clear evidence that pakistani was involved th...         1   \n",
       "2                 have met him last month great guy          1   \n",
       "3   team full ppr pick crowell nyg lewis @ nyj sa...         1   \n",
       "4     wow just wow don even have any words say this          1   \n",
       "\n",
       "                                         pre_process  \n",
       "0  wrong that day not brahmin because you are bra...  \n",
       "1  clear evidence that pakistani was involved the...  \n",
       "2                  have met him last month great guy  \n",
       "3  team full ppr pick crowell nyg lewis  nyj sanu...  \n",
       "4      wow just wow don even have any words say this  "
      ]
     },
     "execution_count": 8,
     "metadata": {},
     "output_type": "execute_result"
    }
   ],
   "source": [
    "#Removing non-alpha characters\n",
    "data['pre_process']=data['pre_process'].apply(lambda x: \" \".join([re.sub('[^A-Za-z]+','', x) for x in nltk.word_tokenize(x)]))\n",
    "data.head()"
   ]
  },
  {
   "cell_type": "code",
   "execution_count": 9,
   "id": "eb17b033",
   "metadata": {},
   "outputs": [
    {
     "data": {
      "text/html": [
       "<div>\n",
       "<style scoped>\n",
       "    .dataframe tbody tr th:only-of-type {\n",
       "        vertical-align: middle;\n",
       "    }\n",
       "\n",
       "    .dataframe tbody tr th {\n",
       "        vertical-align: top;\n",
       "    }\n",
       "\n",
       "    .dataframe thead th {\n",
       "        text-align: right;\n",
       "    }\n",
       "</style>\n",
       "<table border=\"1\" class=\"dataframe\">\n",
       "  <thead>\n",
       "    <tr style=\"text-align: right;\">\n",
       "      <th></th>\n",
       "      <th>tweet</th>\n",
       "      <th>category</th>\n",
       "      <th>pre_process</th>\n",
       "    </tr>\n",
       "  </thead>\n",
       "  <tbody>\n",
       "    <tr>\n",
       "      <th>0</th>\n",
       "      <td>wrong that day not brahmin because you are bra...</td>\n",
       "      <td>0</td>\n",
       "      <td>wrong that day not brahmin because you are bra...</td>\n",
       "    </tr>\n",
       "    <tr>\n",
       "      <th>1</th>\n",
       "      <td>clear evidence that pakistani was involved th...</td>\n",
       "      <td>1</td>\n",
       "      <td>clear evidence that pakistani was involved the...</td>\n",
       "    </tr>\n",
       "    <tr>\n",
       "      <th>2</th>\n",
       "      <td>have met him last month great guy</td>\n",
       "      <td>1</td>\n",
       "      <td>have met him last month great guy</td>\n",
       "    </tr>\n",
       "    <tr>\n",
       "      <th>3</th>\n",
       "      <td>team full ppr pick crowell nyg lewis @ nyj sa...</td>\n",
       "      <td>1</td>\n",
       "      <td>team full ppr pick crowell nyg lewis nyj sanu ari</td>\n",
       "    </tr>\n",
       "    <tr>\n",
       "      <th>4</th>\n",
       "      <td>wow just wow don even have any words say this</td>\n",
       "      <td>1</td>\n",
       "      <td>wow just wow don even have any words say this</td>\n",
       "    </tr>\n",
       "  </tbody>\n",
       "</table>\n",
       "</div>"
      ],
      "text/plain": [
       "                                               tweet  category  \\\n",
       "0  wrong that day not brahmin because you are bra...         0   \n",
       "1   clear evidence that pakistani was involved th...         1   \n",
       "2                 have met him last month great guy          1   \n",
       "3   team full ppr pick crowell nyg lewis @ nyj sa...         1   \n",
       "4     wow just wow don even have any words say this          1   \n",
       "\n",
       "                                         pre_process  \n",
       "0  wrong that day not brahmin because you are bra...  \n",
       "1  clear evidence that pakistani was involved the...  \n",
       "2                  have met him last month great guy  \n",
       "3  team full ppr pick crowell nyg lewis nyj sanu ari  \n",
       "4      wow just wow don even have any words say this  "
      ]
     },
     "execution_count": 9,
     "metadata": {},
     "output_type": "execute_result"
    }
   ],
   "source": [
    "#Removing extra spaces\n",
    "data['pre_process']=data['pre_process'].apply(lambda x: re.sub(' +', ' ', x))\n",
    "data.head()"
   ]
  },
  {
   "cell_type": "code",
   "execution_count": 10,
   "id": "4f31f531",
   "metadata": {
    "scrolled": true
   },
   "outputs": [
    {
     "data": {
      "text/html": [
       "<div>\n",
       "<style scoped>\n",
       "    .dataframe tbody tr th:only-of-type {\n",
       "        vertical-align: middle;\n",
       "    }\n",
       "\n",
       "    .dataframe tbody tr th {\n",
       "        vertical-align: top;\n",
       "    }\n",
       "\n",
       "    .dataframe thead th {\n",
       "        text-align: right;\n",
       "    }\n",
       "</style>\n",
       "<table border=\"1\" class=\"dataframe\">\n",
       "  <thead>\n",
       "    <tr style=\"text-align: right;\">\n",
       "      <th></th>\n",
       "      <th>tweet</th>\n",
       "      <th>category</th>\n",
       "      <th>pre_process</th>\n",
       "    </tr>\n",
       "  </thead>\n",
       "  <tbody>\n",
       "    <tr>\n",
       "      <th>0</th>\n",
       "      <td>wrong that day not brahmin because you are bra...</td>\n",
       "      <td>0</td>\n",
       "      <td>wrong day brahmin brahmin brahmin brahmin brah...</td>\n",
       "    </tr>\n",
       "    <tr>\n",
       "      <th>1</th>\n",
       "      <td>clear evidence that pakistani was involved th...</td>\n",
       "      <td>1</td>\n",
       "      <td>clear evidence pakistani involved aerial battl...</td>\n",
       "    </tr>\n",
       "    <tr>\n",
       "      <th>2</th>\n",
       "      <td>have met him last month great guy</td>\n",
       "      <td>1</td>\n",
       "      <td>met last month great guy</td>\n",
       "    </tr>\n",
       "    <tr>\n",
       "      <th>3</th>\n",
       "      <td>team full ppr pick crowell nyg lewis @ nyj sa...</td>\n",
       "      <td>1</td>\n",
       "      <td>team full ppr pick crowell nyg lewis nyj sanu ari</td>\n",
       "    </tr>\n",
       "    <tr>\n",
       "      <th>4</th>\n",
       "      <td>wow just wow don even have any words say this</td>\n",
       "      <td>1</td>\n",
       "      <td>wow wow even words say</td>\n",
       "    </tr>\n",
       "  </tbody>\n",
       "</table>\n",
       "</div>"
      ],
      "text/plain": [
       "                                               tweet  category  \\\n",
       "0  wrong that day not brahmin because you are bra...         0   \n",
       "1   clear evidence that pakistani was involved th...         1   \n",
       "2                 have met him last month great guy          1   \n",
       "3   team full ppr pick crowell nyg lewis @ nyj sa...         1   \n",
       "4     wow just wow don even have any words say this          1   \n",
       "\n",
       "                                         pre_process  \n",
       "0  wrong day brahmin brahmin brahmin brahmin brah...  \n",
       "1  clear evidence pakistani involved aerial battl...  \n",
       "2                           met last month great guy  \n",
       "3  team full ppr pick crowell nyg lewis nyj sanu ari  \n",
       "4                             wow wow even words say  "
      ]
     },
     "execution_count": 10,
     "metadata": {},
     "output_type": "execute_result"
    }
   ],
   "source": [
    "#Removing stopwords\n",
    "stop = stopwords.words('english')\n",
    "data['pre_process']=data['pre_process'].apply(lambda x: \" \".join([x for x in x.split() if x not in stop]))\n",
    "data.head()"
   ]
  },
  {
   "cell_type": "code",
   "execution_count": 11,
   "id": "a1b54763",
   "metadata": {},
   "outputs": [
    {
     "data": {
      "text/html": [
       "<div>\n",
       "<style scoped>\n",
       "    .dataframe tbody tr th:only-of-type {\n",
       "        vertical-align: middle;\n",
       "    }\n",
       "\n",
       "    .dataframe tbody tr th {\n",
       "        vertical-align: top;\n",
       "    }\n",
       "\n",
       "    .dataframe thead th {\n",
       "        text-align: right;\n",
       "    }\n",
       "</style>\n",
       "<table border=\"1\" class=\"dataframe\">\n",
       "  <thead>\n",
       "    <tr style=\"text-align: right;\">\n",
       "      <th></th>\n",
       "      <th>tweet</th>\n",
       "      <th>category</th>\n",
       "      <th>pre_process</th>\n",
       "    </tr>\n",
       "  </thead>\n",
       "  <tbody>\n",
       "    <tr>\n",
       "      <th>0</th>\n",
       "      <td>wrong that day not brahmin because you are bra...</td>\n",
       "      <td>0</td>\n",
       "      <td>wrong day brahmin brahmin brahmin brahmin brah...</td>\n",
       "    </tr>\n",
       "    <tr>\n",
       "      <th>1</th>\n",
       "      <td>clear evidence that pakistani was involved th...</td>\n",
       "      <td>1</td>\n",
       "      <td>clear evidence pakistani involved aerial battl...</td>\n",
       "    </tr>\n",
       "    <tr>\n",
       "      <th>2</th>\n",
       "      <td>have met him last month great guy</td>\n",
       "      <td>1</td>\n",
       "      <td>met last month great guy</td>\n",
       "    </tr>\n",
       "    <tr>\n",
       "      <th>3</th>\n",
       "      <td>team full ppr pick crowell nyg lewis @ nyj sa...</td>\n",
       "      <td>1</td>\n",
       "      <td>team full ppr pick crowell nyg lewis nyj sanu ari</td>\n",
       "    </tr>\n",
       "    <tr>\n",
       "      <th>4</th>\n",
       "      <td>wow just wow don even have any words say this</td>\n",
       "      <td>1</td>\n",
       "      <td>wow wow even word say</td>\n",
       "    </tr>\n",
       "  </tbody>\n",
       "</table>\n",
       "</div>"
      ],
      "text/plain": [
       "                                               tweet  category  \\\n",
       "0  wrong that day not brahmin because you are bra...         0   \n",
       "1   clear evidence that pakistani was involved th...         1   \n",
       "2                 have met him last month great guy          1   \n",
       "3   team full ppr pick crowell nyg lewis @ nyj sa...         1   \n",
       "4     wow just wow don even have any words say this          1   \n",
       "\n",
       "                                         pre_process  \n",
       "0  wrong day brahmin brahmin brahmin brahmin brah...  \n",
       "1  clear evidence pakistani involved aerial battl...  \n",
       "2                           met last month great guy  \n",
       "3  team full ppr pick crowell nyg lewis nyj sanu ari  \n",
       "4                              wow wow even word say  "
      ]
     },
     "execution_count": 11,
     "metadata": {},
     "output_type": "execute_result"
    }
   ],
   "source": [
    "#Lemmatization\n",
    "lemmatizer = WordNetLemmatizer()\n",
    "data['pre_process']=data['pre_process'].apply(lambda x: \" \".join([lemmatizer.lemmatize(w) for w in nltk.word_tokenize(x)]))\n",
    "data.head()"
   ]
  },
  {
   "cell_type": "code",
   "execution_count": 12,
   "id": "7de443cf",
   "metadata": {},
   "outputs": [],
   "source": [
    "#Descriptive Statistics\n",
    "text = \" \".join(review for review in data.pre_process)\n",
    "split = text.split()"
   ]
  },
  {
   "cell_type": "code",
   "execution_count": 13,
   "id": "fdb99253",
   "metadata": {},
   "outputs": [
    {
     "data": {
      "image/png": "[encoded data removed]",
      "text/plain": [
       "<Figure size 800x550 with 1 Axes>"
      ]
     },
     "metadata": {},
     "output_type": "display_data"
    }
   ],
   "source": [
    "stopwords =  set(STOPWORDS)\n",
    "stopwords.update(['movie', 'film', 'show', 'see', 'watch', 'seen', 'seem', 'say'])\n",
    "\n",
    "#Generate a wordcloud image\n",
    "wordcloud = WordCloud(mode = 'RGBA', max_font_size = 100, stopwords = stopwords, max_words = 50, \n",
    "                      background_color = None).generate(text)\n",
    "\n",
    "#Display the generated image the matplotlib way\n",
    "plt.imshow(wordcloud, interpolation = 'mitchell')\n",
    "plt.axis('off')\n",
    "plt.show()"
   ]
  },
  {
   "cell_type": "code",
   "execution_count": 14,
   "id": "22fadc51",
   "metadata": {},
   "outputs": [
    {
     "data": {
      "text/html": [
       "<div>\n",
       "<style scoped>\n",
       "    .dataframe tbody tr th:only-of-type {\n",
       "        vertical-align: middle;\n",
       "    }\n",
       "\n",
       "    .dataframe tbody tr th {\n",
       "        vertical-align: top;\n",
       "    }\n",
       "\n",
       "    .dataframe thead th {\n",
       "        text-align: right;\n",
       "    }\n",
       "</style>\n",
       "<table border=\"1\" class=\"dataframe\">\n",
       "  <thead>\n",
       "    <tr style=\"text-align: right;\">\n",
       "      <th></th>\n",
       "      <th>word</th>\n",
       "      <th>frequency</th>\n",
       "    </tr>\n",
       "  </thead>\n",
       "  <tbody>\n",
       "    <tr>\n",
       "      <th>31</th>\n",
       "      <td>people</td>\n",
       "      <td>5186</td>\n",
       "    </tr>\n",
       "    <tr>\n",
       "      <th>348</th>\n",
       "      <td>india</td>\n",
       "      <td>4711</td>\n",
       "    </tr>\n",
       "    <tr>\n",
       "      <th>214</th>\n",
       "      <td>like</td>\n",
       "      <td>4497</td>\n",
       "    </tr>\n",
       "    <tr>\n",
       "      <th>211</th>\n",
       "      <td>bjp</td>\n",
       "      <td>4414</td>\n",
       "    </tr>\n",
       "    <tr>\n",
       "      <th>197</th>\n",
       "      <td>modi</td>\n",
       "      <td>4163</td>\n",
       "    </tr>\n",
       "  </tbody>\n",
       "</table>\n",
       "</div>"
      ],
      "text/plain": [
       "       word  frequency\n",
       "31   people       5186\n",
       "348   india       4711\n",
       "214    like       4497\n",
       "211     bjp       4414\n",
       "197    modi       4163"
      ]
     },
     "execution_count": 14,
     "metadata": {},
     "output_type": "execute_result"
    }
   ],
   "source": [
    "#Frequency Distribution Table\n",
    "freq_dist = nltk.FreqDist(split)\n",
    "freq_dist = pd.DataFrame(freq_dist.items(),columns=['word','frequency']).sort_values(by='frequency',ascending=False)\n",
    "freq_dist.head()"
   ]
  },
  {
   "cell_type": "code",
   "execution_count": 15,
   "id": "175f5c09",
   "metadata": {},
   "outputs": [
    {
     "data": {
      "text/plain": [
       "<AxesSubplot:xlabel='frequency', ylabel='word'>"
      ]
     },
     "execution_count": 15,
     "metadata": {},
     "output_type": "execute_result"
    },
    {
     "data": {
      "image/png": "[encoded data removed]",
      "text/plain": [
       "<Figure size 800x550 with 1 Axes>"
      ]
     },
     "metadata": {},
     "output_type": "display_data"
    }
   ],
   "source": [
    "#Frequency Distribution Barplot\n",
    "sns.barplot(x='frequency',y='word',data=freq_dist.head(30))"
   ]
  },
  {
   "cell_type": "code",
   "execution_count": 16,
   "id": "12eb1f67",
   "metadata": {},
   "outputs": [
    {
     "name": "stdout",
     "output_type": "stream",
     "text": [
      "42.778016424510426\n",
      "34.79340340703153\n"
     ]
    }
   ],
   "source": [
    "# WORD-COUNT\n",
    "data['word_count'] = data['tweet'].apply(lambda x: len(str(x).split()))\n",
    "print(data[data['category']==1]['word_count'].mean()) #Positive tweets\n",
    "print(data[data['category']==0]['word_count'].mean()) #Negative tweets"
   ]
  },
  {
   "cell_type": "code",
   "execution_count": 17,
   "id": "b32c2a57",
   "metadata": {},
   "outputs": [
    {
     "data": {
      "image/png": "[encoded data removed]",
      "text/plain": [
       "<Figure size 1000x400 with 2 Axes>"
      ]
     },
     "metadata": {},
     "output_type": "display_data"
    }
   ],
   "source": [
    "# PLOTTING WORD-COUNT\n",
    "fig,(ax1,ax2)=plt.subplots(1,2,figsize=(10,4))\n",
    "train_words=data[data['category']==1]['word_count']\n",
    "ax1.hist(train_words,color='red')\n",
    "ax1.set_title('Depression tweets')\n",
    "train_words=data[data['category']==0]['word_count']\n",
    "ax2.hist(train_words,color='green')\n",
    "ax2.set_title('Normal tweets')\n",
    "fig.suptitle('Words per tweet')\n",
    "plt.show()"
   ]
  },
  {
   "cell_type": "code",
   "execution_count": 18,
   "id": "c40402d5",
   "metadata": {},
   "outputs": [
    {
     "name": "stdout",
     "output_type": "stream",
     "text": [
      "Train:  (18080,) (18080,) Test:  ((6027,), (6027,))\n"
     ]
    }
   ],
   "source": [
    "#Word Embedding (TF-IDF)\n",
    "#Splitting into train and test datasets\n",
    "x_train,x_test,y_train, y_test = train_test_split(data['pre_process'], data['category'], test_size=0.25, random_state=30)\n",
    "print(\"Train: \",x_train.shape,x_train.shape,\"Test: \",(x_test.shape,y_test.shape))"
   ]
  },
  {
   "cell_type": "code",
   "execution_count": 19,
   "id": "920ce6f1",
   "metadata": {},
   "outputs": [
    {
     "data": {
      "text/plain": [
       "<18080x34317 sparse matrix of type '<class 'numpy.float64'>'\n",
       "\twith 396949 stored elements in Compressed Sparse Row format>"
      ]
     },
     "execution_count": 19,
     "metadata": {},
     "output_type": "execute_result"
    }
   ],
   "source": [
    "vectorizer= TfidfVectorizer()\n",
    "tf_x_train = vectorizer.fit_transform(x_train)\n",
    "tf_x_test = vectorizer.transform(x_test)\n",
    "tf_x_train"
   ]
  },
  {
   "cell_type": "code",
   "execution_count": 20,
   "id": "4bed759d",
   "metadata": {},
   "outputs": [
    {
     "name": "stdout",
     "output_type": "stream",
     "text": [
      "              precision    recall  f1-score   support\n",
      "\n",
      "           0       0.84      0.75      0.79      2094\n",
      "           1       0.87      0.93      0.90      3933\n",
      "\n",
      "    accuracy                           0.86      6027\n",
      "   macro avg       0.86      0.84      0.85      6027\n",
      "weighted avg       0.86      0.86      0.86      6027\n",
      "\n",
      "Confusion Matrix: [[1569  525]\n",
      " [ 290 3643]]\n",
      "AUC: 0.9337166400629843\n"
     ]
    }
   ],
   "source": [
    "#Classification\n",
    "#Fitting the classification model using Logistic Regression(tf-idf)\n",
    "lr_tfidf=LogisticRegression(solver = 'liblinear', C=10, penalty = 'l2')\n",
    "\n",
    "lr_tfidf.fit(tf_x_train, y_train)  \n",
    "\n",
    "#Predict y value for test dataset\n",
    "y_predict = lr_tfidf.predict(tf_x_test)\n",
    "\n",
    "y_prob = lr_tfidf.predict_proba(tf_x_test)[:,1]\n",
    "\n",
    "print(classification_report(y_test,y_predict))\n",
    "\n",
    "print('Confusion Matrix:',confusion_matrix(y_test, y_predict))\n",
    " \n",
    "fpr, tpr, thresholds = roc_curve(y_test, y_prob)\n",
    "roc_auc = auc(fpr, tpr)\n",
    "print('AUC:', roc_auc)"
   ]
  },
  {
   "cell_type": "code",
   "execution_count": 21,
   "id": "0294b856",
   "metadata": {},
   "outputs": [
    {
     "name": "stdout",
     "output_type": "stream",
     "text": [
      "              precision    recall  f1-score   support\n",
      "\n",
      "           0       0.97      0.11      0.19      2094\n",
      "           1       0.68      1.00      0.81      3933\n",
      "\n",
      "    accuracy                           0.69      6027\n",
      "   macro avg       0.82      0.55      0.50      6027\n",
      "weighted avg       0.78      0.69      0.59      6027\n",
      "\n",
      "Confusion Matrix: [[ 227 1867]\n",
      " [   8 3925]]\n",
      "AUC: 0.8487672332000357\n"
     ]
    }
   ],
   "source": [
    "#Fitting the classification model using Naive Bayes(tf-idf)\n",
    "\n",
    "nb_tfidf = MultinomialNB()\n",
    "\n",
    "nb_tfidf.fit(tf_x_train, y_train)  \n",
    "\n",
    "#Predict y value for test dataset\n",
    "\n",
    "y_predict = nb_tfidf.predict(tf_x_test)\n",
    "\n",
    "y_prob = nb_tfidf.predict_proba(tf_x_test)[:,1]\n",
    "\n",
    "print(classification_report(y_test,y_predict))\n",
    "\n",
    "print('Confusion Matrix:',confusion_matrix(y_test, y_predict))\n",
    " \n",
    "fpr, tpr, thresholds = roc_curve(y_test, y_prob)\n",
    "roc_auc = auc(fpr, tpr)\n",
    "print('AUC:', roc_auc)"
   ]
  },
  {
   "cell_type": "code",
   "execution_count": 22,
   "id": "c817ebc9",
   "metadata": {},
   "outputs": [],
   "source": [
    "#Hence, logistic regression gives an accuracy score of 0.99. Thus, it is a better fit."
   ]
  },
  {
   "cell_type": "code",
   "execution_count": 23,
   "id": "b6e0aedf",
   "metadata": {},
   "outputs": [
    {
     "data": {
      "text/plain": [
       "['wrong day brahmin brahmin brahmin brahmin brahmin brahmin brahmin brahmin brahmin brahmin brahmin brahmin brahmin brahmin brahmin brahmin brahmin brahmin brahmin',\n",
       " 'clear evidence pakistani involved aerial battle naushera aim fired',\n",
       " 'met last month great guy',\n",
       " 'team full ppr pick crowell nyg lewis nyj sanu ari',\n",
       " 'wow wow even word say']"
      ]
     },
     "execution_count": 23,
     "metadata": {},
     "output_type": "execute_result"
    }
   ],
   "source": [
    "#Cluster Analysis\n",
    "#Reading the reviews column into an array\n",
    "documents = data.iloc[:,-2].tolist()\n",
    "documents[:5]"
   ]
  },
  {
   "cell_type": "code",
   "execution_count": 24,
   "id": "21aed1d6",
   "metadata": {},
   "outputs": [],
   "source": [
    "vectorizer = TfidfVectorizer()\n",
    "X = vectorizer.fit_transform(documents)"
   ]
  },
  {
   "cell_type": "code",
   "execution_count": 25,
   "id": "51a5dd7c",
   "metadata": {},
   "outputs": [],
   "source": [
    "vectorizer = TfidfVectorizer()\n",
    "X = vectorizer.fit_transform(documents)"
   ]
  },
  {
   "cell_type": "code",
   "execution_count": 26,
   "id": "3006b53b",
   "metadata": {},
   "outputs": [
    {
     "data": {
      "image/png": "[encoded data removed]",
      "text/plain": [
       "<Figure size 800x550 with 1 Axes>"
      ]
     },
     "metadata": {},
     "output_type": "display_data"
    }
   ],
   "source": [
    "wcss=[]\n",
    "for i in range(1,5):\n",
    "    clustering = KMeans(n_clusters = i,init='k-means++',random_state=42)\n",
    "    clustering.fit(X)\n",
    "    wcss.append(clustering.inertia_)\n",
    "ks = [1,2,3,4]\n",
    "sns.lineplot(x = ks,y =wcss);"
   ]
  },
  {
   "cell_type": "code",
   "execution_count": 27,
   "id": "1bf8e952",
   "metadata": {},
   "outputs": [
    {
     "data": {
      "text/plain": [
       "KMeans(max_iter=100, n_clusters=2, n_init=1)"
      ]
     },
     "execution_count": 27,
     "metadata": {},
     "output_type": "execute_result"
    }
   ],
   "source": [
    "true_k = 2\n",
    "model = KMeans(n_clusters = true_k, init='k-means++',max_iter = 100 , n_init = 1)\n",
    "model.fit(X)"
   ]
  },
  {
   "cell_type": "code",
   "execution_count": 28,
   "id": "36404ded",
   "metadata": {},
   "outputs": [
    {
     "name": "stdout",
     "output_type": "stream",
     "text": [
      "Top terms per cluster :\n",
      "Cluster 0:\n",
      " bjp\n",
      " congress\n",
      " party\n",
      " vote\n",
      " modi\n",
      "Cluster 1:\n",
      " india\n",
      " people\n",
      " like\n",
      " modi\n",
      " good\n"
     ]
    }
   ],
   "source": [
    "print(\"Top terms per cluster :\")\n",
    "order_centroids = model.cluster_centers_.argsort()[:,::-1]\n",
    "terms = vectorizer.get_feature_names_out()\n",
    "for i in range(true_k):\n",
    "    print(\"Cluster %d:\" % i),\n",
    "    for ind in order_centroids[i,:5]:\n",
    "        print(' %s' % terms[ind]);\n",
    "    print"
   ]
  },
  {
   "cell_type": "code",
   "execution_count": 29,
   "id": "4d6b8fc5",
   "metadata": {},
   "outputs": [
    {
     "data": {
      "text/html": [
       "<div>\n",
       "<style scoped>\n",
       "    .dataframe tbody tr th:only-of-type {\n",
       "        vertical-align: middle;\n",
       "    }\n",
       "\n",
       "    .dataframe tbody tr th {\n",
       "        vertical-align: top;\n",
       "    }\n",
       "\n",
       "    .dataframe thead th {\n",
       "        text-align: right;\n",
       "    }\n",
       "</style>\n",
       "<table border=\"1\" class=\"dataframe\">\n",
       "  <thead>\n",
       "    <tr style=\"text-align: right;\">\n",
       "      <th></th>\n",
       "      <th>split</th>\n",
       "    </tr>\n",
       "  </thead>\n",
       "  <tbody>\n",
       "    <tr>\n",
       "      <th>0</th>\n",
       "      <td>[wrong, day, brahmin, brahmin, brahmin, brahmi...</td>\n",
       "    </tr>\n",
       "    <tr>\n",
       "      <th>1</th>\n",
       "      <td>[clear, evidence, pakistani, involved, aerial,...</td>\n",
       "    </tr>\n",
       "    <tr>\n",
       "      <th>2</th>\n",
       "      <td>[met, last, month, great, guy]</td>\n",
       "    </tr>\n",
       "    <tr>\n",
       "      <th>3</th>\n",
       "      <td>[team, full, ppr, pick, crowell, nyg, lewis, n...</td>\n",
       "    </tr>\n",
       "    <tr>\n",
       "      <th>4</th>\n",
       "      <td>[wow, wow, even, word, say]</td>\n",
       "    </tr>\n",
       "    <tr>\n",
       "      <th>...</th>\n",
       "      <td>...</td>\n",
       "    </tr>\n",
       "    <tr>\n",
       "      <th>24102</th>\n",
       "      <td>[individual, muslim, bad, islamic, ideology]</td>\n",
       "    </tr>\n",
       "    <tr>\n",
       "      <th>24103</th>\n",
       "      <td>[strength, kohli, weakness, kohli, love, kohli...</td>\n",
       "    </tr>\n",
       "    <tr>\n",
       "      <th>24104</th>\n",
       "      <td>[quite, fast]</td>\n",
       "    </tr>\n",
       "    <tr>\n",
       "      <th>24105</th>\n",
       "      <td>[demonitization, fails, incorrect, question, f...</td>\n",
       "    </tr>\n",
       "    <tr>\n",
       "      <th>24106</th>\n",
       "      <td>[told, wife, keep, producing, child, planning,...</td>\n",
       "    </tr>\n",
       "  </tbody>\n",
       "</table>\n",
       "<p>24107 rows × 1 columns</p>\n",
       "</div>"
      ],
      "text/plain": [
       "                                                   split\n",
       "0      [wrong, day, brahmin, brahmin, brahmin, brahmi...\n",
       "1      [clear, evidence, pakistani, involved, aerial,...\n",
       "2                         [met, last, month, great, guy]\n",
       "3      [team, full, ppr, pick, crowell, nyg, lewis, n...\n",
       "4                            [wow, wow, even, word, say]\n",
       "...                                                  ...\n",
       "24102       [individual, muslim, bad, islamic, ideology]\n",
       "24103  [strength, kohli, weakness, kohli, love, kohli...\n",
       "24104                                      [quite, fast]\n",
       "24105  [demonitization, fails, incorrect, question, f...\n",
       "24106  [told, wife, keep, producing, child, planning,...\n",
       "\n",
       "[24107 rows x 1 columns]"
      ]
     },
     "execution_count": 29,
     "metadata": {},
     "output_type": "execute_result"
    }
   ],
   "source": [
    "#Topic Modelling\n",
    "df=pd.DataFrame()\n",
    "df['split'] = data['pre_process'].apply(lambda x: x.split())\n",
    "df"
   ]
  },
  {
   "cell_type": "code",
   "execution_count": 30,
   "id": "35575b16",
   "metadata": {},
   "outputs": [],
   "source": [
    "#Word Embedding on split text\n",
    "#Creating a dictionary from ‘processed_docs’ containing the number of times a word appears in the training set..\n",
    "\n",
    "#Creating a vocabulary\n",
    "dictionary = gensim.corpora.Dictionary(df['split'])"
   ]
  },
  {
   "cell_type": "code",
   "execution_count": 31,
   "id": "0322c674",
   "metadata": {},
   "outputs": [
    {
     "name": "stdout",
     "output_type": "stream",
     "text": [
      "0 brahmin\n",
      "1 day\n",
      "2 wrong\n",
      "3 aerial\n",
      "4 aim\n",
      "5 battle\n",
      "6 clear\n",
      "7 evidence\n",
      "8 fired\n",
      "9 involved\n",
      "10 naushera\n"
     ]
    }
   ],
   "source": [
    "count = 0\n",
    "for k, v in dictionary.iteritems():\n",
    "    print(k, v)\n",
    "    count += 1\n",
    "    if count > 10:\n",
    "        break"
   ]
  },
  {
   "cell_type": "code",
   "execution_count": 32,
   "id": "9926beea",
   "metadata": {},
   "outputs": [],
   "source": [
    "#Doc2BOW\n",
    "#Filtering out tokens that appear in less than 15 documents or more than 0.5 documents. After the above two steps, keeping only the first 100000 most frequent tokens.\n",
    "dictionary.filter_extremes(no_below=15, no_above=0.5, keep_n=10000)"
   ]
  },
  {
   "cell_type": "code",
   "execution_count": 33,
   "id": "c397d12d",
   "metadata": {},
   "outputs": [
    {
     "data": {
      "text/plain": [
       "[(12, 1),\n",
       " (18, 1),\n",
       " (19, 1),\n",
       " (118, 1),\n",
       " (232, 1),\n",
       " (348, 1),\n",
       " (599, 1),\n",
       " (712, 1),\n",
       " (4109, 1)]"
      ]
     },
     "execution_count": 33,
     "metadata": {},
     "output_type": "execute_result"
    }
   ],
   "source": [
    "#For each document we create a dictionary reporting how many words and how many times those words appear. Save this to ‘bow_corpus’, then check our selected document earlier.\n",
    "bow_corpus = [dictionary.doc2bow(doc) for doc in df['split']]\n",
    "bow_corpus[4310]"
   ]
  },
  {
   "cell_type": "code",
   "execution_count": 34,
   "id": "34e764cd",
   "metadata": {},
   "outputs": [
    {
     "name": "stdout",
     "output_type": "stream",
     "text": [
      "Word 12 (\"last\") appears 1 time.\n",
      "Word 18 (\"ppr\") appears 1 time.\n",
      "Word 19 (\"team\") appears 1 time.\n",
      "Word 118 (\"first\") appears 1 time.\n",
      "Word 232 (\"time\") appears 1 time.\n",
      "Word 348 (\"got\") appears 1 time.\n",
      "Word 599 (\"week\") appears 1 time.\n",
      "Word 712 (\"long\") appears 1 time.\n",
      "Word 4109 (\"sea\") appears 1 time.\n"
     ]
    }
   ],
   "source": [
    "bow_doc_4310 = bow_corpus[4310]\n",
    "\n",
    "for i in range(len(bow_doc_4310)):\n",
    "    print(\"Word {} (\\\"{}\\\") appears {} time.\".format(bow_doc_4310[i][0], \n",
    "                                               dictionary[bow_doc_4310[i][0]], \n",
    "                                                     bow_doc_4310[i][1]))"
   ]
  },
  {
   "cell_type": "code",
   "execution_count": 35,
   "id": "d6c2b7e7",
   "metadata": {},
   "outputs": [
    {
     "name": "stdout",
     "output_type": "stream",
     "text": [
      "[(0, 0.9991497516684781), (1, 0.02640222181363197), (2, 0.031665382109207975)]\n"
     ]
    }
   ],
   "source": [
    "#Create tf-idf model object using models.TfidfModel on ‘bow_corpus’ and save it to ‘tfidf’, then apply transformation to the entire corpus and call it ‘corpus_tfidf’. Finally we preview TF-IDF scores for our first document.\n",
    "tfidf = models.TfidfModel(bow_corpus)\n",
    "corpus_tfidf = tfidf[bow_corpus]\n",
    "\n",
    "for doc in corpus_tfidf:\n",
    "    pprint(doc)\n",
    "    break"
   ]
  },
  {
   "cell_type": "code",
   "execution_count": 36,
   "id": "782dfcb0",
   "metadata": {},
   "outputs": [],
   "source": [
    "#LDA using BOW\n",
    "#Train our lda model using gensim.models.LdaMulticore and save it to ‘lda_model’\n",
    "lda_model = gensim.models.LdaMulticore(bow_corpus, num_topics=10, id2word=dictionary, passes=2, workers=2)"
   ]
  },
  {
   "cell_type": "code",
   "execution_count": 37,
   "id": "41c68d0a",
   "metadata": {},
   "outputs": [
    {
     "name": "stdout",
     "output_type": "stream",
     "text": [
      "Topic: 0 \n",
      "Words: 0.013*\"good\" + 0.011*\"well\" + 0.010*\"people\" + 0.008*\"even\" + 0.008*\"muslim\" + 0.008*\"result\" + 0.006*\"think\" + 0.006*\"work\" + 0.005*\"time\" + 0.005*\"hindu\"\n",
      "Topic: 1 \n",
      "Words: 0.017*\"india\" + 0.013*\"people\" + 0.011*\"like\" + 0.010*\"muslim\" + 0.009*\"hindu\" + 0.008*\"country\" + 0.008*\"state\" + 0.006*\"indian\" + 0.006*\"bjp\" + 0.006*\"pakistan\"\n",
      "Topic: 2 \n",
      "Words: 0.035*\"bjp\" + 0.020*\"congress\" + 0.018*\"party\" + 0.011*\"election\" + 0.010*\"government\" + 0.009*\"modi\" + 0.008*\"people\" + 0.008*\"like\" + 0.007*\"vote\" + 0.007*\"would\"\n",
      "Topic: 3 \n",
      "Words: 0.016*\"people\" + 0.010*\"know\" + 0.010*\"one\" + 0.008*\"right\" + 0.008*\"make\" + 0.008*\"country\" + 0.007*\"like\" + 0.006*\"want\" + 0.006*\"think\" + 0.006*\"even\"\n",
      "Topic: 4 \n",
      "Words: 0.028*\"best\" + 0.021*\"movie\" + 0.019*\"way\" + 0.017*\"get\" + 0.017*\"overall\" + 0.016*\"fuck\" + 0.016*\"vote\" + 0.012*\"good\" + 0.009*\"che\" + 0.009*\"like\"\n",
      "Topic: 5 \n",
      "Words: 0.035*\"good\" + 0.019*\"modi\" + 0.011*\"like\" + 0.010*\"one\" + 0.009*\"time\" + 0.008*\"people\" + 0.008*\"really\" + 0.007*\"said\" + 0.007*\"look\" + 0.005*\"point\"\n",
      "Topic: 6 \n",
      "Words: 0.016*\"people\" + 0.013*\"team\" + 0.011*\"free\" + 0.008*\"encyclopedia\" + 0.007*\"get\" + 0.007*\"like\" + 0.007*\"much\" + 0.007*\"day\" + 0.006*\"one\" + 0.006*\"reached\"\n",
      "Topic: 7 \n",
      "Words: 0.012*\"india\" + 0.010*\"modi\" + 0.010*\"even\" + 0.009*\"like\" + 0.009*\"would\" + 0.008*\"people\" + 0.007*\"get\" + 0.006*\"good\" + 0.006*\"medium\" + 0.006*\"thing\"\n",
      "Topic: 8 \n",
      "Words: 0.012*\"india\" + 0.011*\"modi\" + 0.009*\"get\" + 0.009*\"year\" + 0.009*\"like\" + 0.008*\"one\" + 0.008*\"indian\" + 0.007*\"thing\" + 0.006*\"bjp\" + 0.006*\"would\"\n",
      "Topic: 9 \n",
      "Words: 0.017*\"india\" + 0.012*\"pakistan\" + 0.009*\"news\" + 0.008*\"like\" + 0.007*\"modi\" + 0.007*\"would\" + 0.007*\"free\" + 0.007*\"bjp\" + 0.007*\"great\" + 0.006*\"indian\"\n"
     ]
    }
   ],
   "source": [
    "#For each topic, we will explore the words occuring in that topic and its relative weight.\n",
    "for idx, topic in lda_model.print_topics(-1):\n",
    "    print('Topic: {} \\nWords: {}'.format(idx, topic))"
   ]
  },
  {
   "cell_type": "code",
   "execution_count": 38,
   "id": "49b530b8",
   "metadata": {},
   "outputs": [],
   "source": [
    "#LDA using TF-IDF\n",
    "lda_model_tfidf = gensim.models.LdaMulticore(corpus_tfidf, num_topics=10, id2word=dictionary, passes=2, workers=4)"
   ]
  },
  {
   "cell_type": "code",
   "execution_count": 39,
   "id": "3e3ca3b2",
   "metadata": {},
   "outputs": [
    {
     "name": "stdout",
     "output_type": "stream",
     "text": [
      "Topic: 0 Word: 0.005*\"bjp\" + 0.005*\"people\" + 0.004*\"modi\" + 0.004*\"party\" + 0.004*\"india\" + 0.004*\"like\" + 0.003*\"nice\" + 0.003*\"congress\" + 0.003*\"would\" + 0.003*\"get\"\n",
      "Topic: 1 Word: 0.007*\"shit\" + 0.004*\"like\" + 0.004*\"modi\" + 0.004*\"india\" + 0.004*\"people\" + 0.004*\"good\" + 0.004*\"get\" + 0.004*\"medium\" + 0.003*\"guy\" + 0.003*\"bjp\"\n",
      "Topic: 2 Word: 0.005*\"bjp\" + 0.005*\"modi\" + 0.005*\"people\" + 0.004*\"india\" + 0.004*\"like\" + 0.004*\"muslim\" + 0.004*\"real\" + 0.003*\"would\" + 0.003*\"hindu\" + 0.003*\"think\"\n",
      "Topic: 3 Word: 0.007*\"best\" + 0.006*\"fucking\" + 0.006*\"true\" + 0.005*\"right\" + 0.005*\"modi\" + 0.005*\"love\" + 0.004*\"better\" + 0.004*\"india\" + 0.004*\"one\" + 0.004*\"people\"\n",
      "Topic: 4 Word: 0.005*\"good\" + 0.005*\"love\" + 0.005*\"bjp\" + 0.005*\"modi\" + 0.004*\"people\" + 0.004*\"like\" + 0.004*\"india\" + 0.004*\"time\" + 0.003*\"would\" + 0.003*\"know\"\n",
      "Topic: 5 Word: 0.010*\"good\" + 0.007*\"lol\" + 0.004*\"one\" + 0.004*\"people\" + 0.004*\"like\" + 0.004*\"much\" + 0.004*\"post\" + 0.004*\"thank\" + 0.004*\"work\" + 0.003*\"great\"\n",
      "Topic: 6 Word: 0.006*\"wtf\" + 0.005*\"bjp\" + 0.005*\"modi\" + 0.005*\"india\" + 0.004*\"wow\" + 0.004*\"great\" + 0.004*\"like\" + 0.004*\"win\" + 0.004*\"one\" + 0.004*\"people\"\n",
      "Topic: 7 Word: 0.011*\"fuck\" + 0.005*\"bjp\" + 0.004*\"look\" + 0.004*\"like\" + 0.004*\"team\" + 0.004*\"modi\" + 0.004*\"people\" + 0.004*\"congress\" + 0.003*\"free\" + 0.003*\"full\"\n",
      "Topic: 8 Word: 0.005*\"really\" + 0.004*\"india\" + 0.004*\"like\" + 0.004*\"modi\" + 0.004*\"people\" + 0.003*\"sad\" + 0.003*\"one\" + 0.003*\"government\" + 0.003*\"bjp\" + 0.003*\"mean\"\n",
      "Topic: 9 Word: 0.008*\"thanks\" + 0.004*\"one\" + 0.004*\"modi\" + 0.003*\"like\" + 0.003*\"good\" + 0.003*\"india\" + 0.003*\"bjp\" + 0.003*\"people\" + 0.003*\"new\" + 0.003*\"get\"\n"
     ]
    }
   ],
   "source": [
    "for idx, topic in lda_model_tfidf.print_topics(-1):\n",
    "    print('Topic: {} Word: {}'.format(idx, topic))"
   ]
  },
  {
   "cell_type": "code",
   "execution_count": 40,
   "id": "a1740010",
   "metadata": {},
   "outputs": [
    {
     "name": "stdout",
     "output_type": "stream",
     "text": [
      "\n",
      "Score: 0.6142942905426025\t \n",
      "Topic: 0.016*\"people\" + 0.013*\"team\" + 0.011*\"free\" + 0.008*\"encyclopedia\" + 0.007*\"get\" + 0.007*\"like\" + 0.007*\"much\" + 0.007*\"day\" + 0.006*\"one\" + 0.006*\"reached\"\n",
      "\n",
      "Score: 0.3056735098361969\t \n",
      "Topic: 0.035*\"bjp\" + 0.020*\"congress\" + 0.018*\"party\" + 0.011*\"election\" + 0.010*\"government\" + 0.009*\"modi\" + 0.008*\"people\" + 0.008*\"like\" + 0.007*\"vote\" + 0.007*\"would\"\n",
      "\n",
      "Score: 0.010004343464970589\t \n",
      "Topic: 0.035*\"good\" + 0.019*\"modi\" + 0.011*\"like\" + 0.010*\"one\" + 0.009*\"time\" + 0.008*\"people\" + 0.008*\"really\" + 0.007*\"said\" + 0.007*\"look\" + 0.005*\"point\"\n",
      "\n",
      "Score: 0.010004203766584396\t \n",
      "Topic: 0.013*\"good\" + 0.011*\"well\" + 0.010*\"people\" + 0.008*\"even\" + 0.008*\"muslim\" + 0.008*\"result\" + 0.006*\"think\" + 0.006*\"work\" + 0.005*\"time\" + 0.005*\"hindu\"\n",
      "\n",
      "Score: 0.010004119016230106\t \n",
      "Topic: 0.016*\"people\" + 0.010*\"know\" + 0.010*\"one\" + 0.008*\"right\" + 0.008*\"make\" + 0.008*\"country\" + 0.007*\"like\" + 0.006*\"want\" + 0.006*\"think\" + 0.006*\"even\"\n",
      "\n",
      "Score: 0.010004086419939995\t \n",
      "Topic: 0.017*\"india\" + 0.012*\"pakistan\" + 0.009*\"news\" + 0.008*\"like\" + 0.007*\"modi\" + 0.007*\"would\" + 0.007*\"free\" + 0.007*\"bjp\" + 0.007*\"great\" + 0.006*\"indian\"\n",
      "\n",
      "Score: 0.01000407338142395\t \n",
      "Topic: 0.017*\"india\" + 0.013*\"people\" + 0.011*\"like\" + 0.010*\"muslim\" + 0.009*\"hindu\" + 0.008*\"country\" + 0.008*\"state\" + 0.006*\"indian\" + 0.006*\"bjp\" + 0.006*\"pakistan\"\n",
      "\n",
      "Score: 0.010003967210650444\t \n",
      "Topic: 0.012*\"india\" + 0.010*\"modi\" + 0.010*\"even\" + 0.009*\"like\" + 0.009*\"would\" + 0.008*\"people\" + 0.007*\"get\" + 0.006*\"good\" + 0.006*\"medium\" + 0.006*\"thing\"\n",
      "\n",
      "Score: 0.010003742761909962\t \n",
      "Topic: 0.012*\"india\" + 0.011*\"modi\" + 0.009*\"get\" + 0.009*\"year\" + 0.009*\"like\" + 0.008*\"one\" + 0.008*\"indian\" + 0.007*\"thing\" + 0.006*\"bjp\" + 0.006*\"would\"\n",
      "\n",
      "Score: 0.010003692470490932\t \n",
      "Topic: 0.028*\"best\" + 0.021*\"movie\" + 0.019*\"way\" + 0.017*\"get\" + 0.017*\"overall\" + 0.016*\"fuck\" + 0.016*\"vote\" + 0.012*\"good\" + 0.009*\"che\" + 0.009*\"like\"\n"
     ]
    }
   ],
   "source": [
    "#Performance evaluation by classifying sample document using LDA Bag of Words model\n",
    "for index, score in sorted(lda_model[bow_corpus[4310]], key=lambda tup: -1*tup[1]):\n",
    "    print(\"\\nScore: {}\\t \\nTopic: {}\".format(score, lda_model.print_topic(index, 10)))"
   ]
  },
  {
   "cell_type": "code",
   "execution_count": 41,
   "id": "a3e4402a",
   "metadata": {},
   "outputs": [
    {
     "name": "stdout",
     "output_type": "stream",
     "text": [
      "\n",
      "Score: 0.9099661707878113\t \n",
      "Topic: 0.011*\"fuck\" + 0.005*\"bjp\" + 0.004*\"look\" + 0.004*\"like\" + 0.004*\"team\" + 0.004*\"modi\" + 0.004*\"people\" + 0.004*\"congress\" + 0.003*\"free\" + 0.003*\"full\"\n",
      "\n",
      "Score: 0.010006798431277275\t \n",
      "Topic: 0.005*\"good\" + 0.005*\"love\" + 0.005*\"bjp\" + 0.005*\"modi\" + 0.004*\"people\" + 0.004*\"like\" + 0.004*\"india\" + 0.004*\"time\" + 0.003*\"would\" + 0.003*\"know\"\n",
      "\n",
      "Score: 0.010003997012972832\t \n",
      "Topic: 0.008*\"thanks\" + 0.004*\"one\" + 0.004*\"modi\" + 0.003*\"like\" + 0.003*\"good\" + 0.003*\"india\" + 0.003*\"bjp\" + 0.003*\"people\" + 0.003*\"new\" + 0.003*\"get\"\n",
      "\n",
      "Score: 0.010003600269556046\t \n",
      "Topic: 0.006*\"wtf\" + 0.005*\"bjp\" + 0.005*\"modi\" + 0.005*\"india\" + 0.004*\"wow\" + 0.004*\"great\" + 0.004*\"like\" + 0.004*\"win\" + 0.004*\"one\" + 0.004*\"people\"\n",
      "\n",
      "Score: 0.010003447532653809\t \n",
      "Topic: 0.010*\"good\" + 0.007*\"lol\" + 0.004*\"one\" + 0.004*\"people\" + 0.004*\"like\" + 0.004*\"much\" + 0.004*\"post\" + 0.004*\"thank\" + 0.004*\"work\" + 0.003*\"great\"\n",
      "\n",
      "Score: 0.010003344155848026\t \n",
      "Topic: 0.005*\"really\" + 0.004*\"india\" + 0.004*\"like\" + 0.004*\"modi\" + 0.004*\"people\" + 0.003*\"sad\" + 0.003*\"one\" + 0.003*\"government\" + 0.003*\"bjp\" + 0.003*\"mean\"\n",
      "\n",
      "Score: 0.010003305040299892\t \n",
      "Topic: 0.005*\"bjp\" + 0.005*\"people\" + 0.004*\"modi\" + 0.004*\"party\" + 0.004*\"india\" + 0.004*\"like\" + 0.003*\"nice\" + 0.003*\"congress\" + 0.003*\"would\" + 0.003*\"get\"\n",
      "\n",
      "Score: 0.010003230534493923\t \n",
      "Topic: 0.007*\"shit\" + 0.004*\"like\" + 0.004*\"modi\" + 0.004*\"india\" + 0.004*\"people\" + 0.004*\"good\" + 0.004*\"get\" + 0.004*\"medium\" + 0.003*\"guy\" + 0.003*\"bjp\"\n",
      "\n",
      "Score: 0.010003051720559597\t \n",
      "Topic: 0.005*\"bjp\" + 0.005*\"modi\" + 0.005*\"people\" + 0.004*\"india\" + 0.004*\"like\" + 0.004*\"muslim\" + 0.004*\"real\" + 0.003*\"would\" + 0.003*\"hindu\" + 0.003*\"think\"\n",
      "\n",
      "Score: 0.010002990253269672\t \n",
      "Topic: 0.007*\"best\" + 0.006*\"fucking\" + 0.006*\"true\" + 0.005*\"right\" + 0.005*\"modi\" + 0.005*\"love\" + 0.004*\"better\" + 0.004*\"india\" + 0.004*\"one\" + 0.004*\"people\"\n"
     ]
    }
   ],
   "source": [
    "#Performance evaluation by classifying sample document using LDA TF-IDF model.\n",
    "for index, score in sorted(lda_model_tfidf[bow_corpus[4310]], key=lambda tup: -1*tup[1]):\n",
    "    print(\"\\nScore: {}\\t \\nTopic: {}\".format(score, lda_model_tfidf.print_topic(index, 10)))"
   ]
  }
 ],
 "metadata": {
  "kernelspec": {
   "display_name": "Python 3 (ipykernel)",
   "language": "python",
   "name": "python3"
  },
  "language_info": {
   "codemirror_mode": {
    "name": "ipython",
    "version": 3
   },
   "file_extension": ".py",
   "mimetype": "text/x-python",
   "name": "python",
   "nbconvert_exporter": "python",
   "pygments_lexer": "ipython3",
   "version": "3.9.13"
  }
 },
 "nbformat": 4,
 "nbformat_minor": 5
}
