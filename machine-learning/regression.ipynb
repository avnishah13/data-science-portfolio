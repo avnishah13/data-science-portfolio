{
 "cells": [
  {
   "cell_type": "code",
   "execution_count": 1,
   "id": "c7a37a97",
   "metadata": {},
   "outputs": [],
   "source": [
    "import numpy as np\n",
    "import pandas as pd\n",
    "import matplotlib.pyplot as plt\n",
    "import matplotlib.ticker as ticker\n",
    "\n",
    "#Scaling & Dataset Split\n",
    "from sklearn import preprocessing\n",
    "from sklearn.model_selection import train_test_split\n",
    "\n",
    "#OLS, Lasso, Ridge\n",
    "from sklearn.linear_model import LinearRegression, Lasso, Ridge\n",
    "\n",
    "#Model Evaluation\n",
    "from sklearn.metrics import r2_score, mean_squared_error"
   ]
  },
  {
   "cell_type": "code",
   "execution_count": 2,
   "id": "1d893052",
   "metadata": {},
   "outputs": [],
   "source": [
    "#Load Dataset\n",
    "df = pd.read_csv(\"F:\\Documents\\Downloads\\insurance.csv\")"
   ]
  },
  {
   "cell_type": "code",
   "execution_count": 3,
   "id": "87d03eb1",
   "metadata": {},
   "outputs": [
    {
     "data": {
      "text/html": [
       "<div>\n",
       "<style scoped>\n",
       "    .dataframe tbody tr th:only-of-type {\n",
       "        vertical-align: middle;\n",
       "    }\n",
       "\n",
       "    .dataframe tbody tr th {\n",
       "        vertical-align: top;\n",
       "    }\n",
       "\n",
       "    .dataframe thead th {\n",
       "        text-align: right;\n",
       "    }\n",
       "</style>\n",
       "<table border=\"1\" class=\"dataframe\">\n",
       "  <thead>\n",
       "    <tr style=\"text-align: right;\">\n",
       "      <th></th>\n",
       "      <th>age</th>\n",
       "      <th>sex</th>\n",
       "      <th>bmi</th>\n",
       "      <th>children</th>\n",
       "      <th>smoker</th>\n",
       "      <th>region</th>\n",
       "      <th>charges</th>\n",
       "    </tr>\n",
       "  </thead>\n",
       "  <tbody>\n",
       "    <tr>\n",
       "      <th>0</th>\n",
       "      <td>19</td>\n",
       "      <td>female</td>\n",
       "      <td>27.900</td>\n",
       "      <td>0</td>\n",
       "      <td>yes</td>\n",
       "      <td>southwest</td>\n",
       "      <td>16884.92400</td>\n",
       "    </tr>\n",
       "    <tr>\n",
       "      <th>1</th>\n",
       "      <td>18</td>\n",
       "      <td>male</td>\n",
       "      <td>33.770</td>\n",
       "      <td>1</td>\n",
       "      <td>no</td>\n",
       "      <td>southeast</td>\n",
       "      <td>1725.55230</td>\n",
       "    </tr>\n",
       "    <tr>\n",
       "      <th>2</th>\n",
       "      <td>28</td>\n",
       "      <td>male</td>\n",
       "      <td>33.000</td>\n",
       "      <td>3</td>\n",
       "      <td>no</td>\n",
       "      <td>southeast</td>\n",
       "      <td>4449.46200</td>\n",
       "    </tr>\n",
       "    <tr>\n",
       "      <th>3</th>\n",
       "      <td>33</td>\n",
       "      <td>male</td>\n",
       "      <td>22.705</td>\n",
       "      <td>0</td>\n",
       "      <td>no</td>\n",
       "      <td>northwest</td>\n",
       "      <td>21984.47061</td>\n",
       "    </tr>\n",
       "    <tr>\n",
       "      <th>4</th>\n",
       "      <td>32</td>\n",
       "      <td>male</td>\n",
       "      <td>28.880</td>\n",
       "      <td>0</td>\n",
       "      <td>no</td>\n",
       "      <td>northwest</td>\n",
       "      <td>3866.85520</td>\n",
       "    </tr>\n",
       "  </tbody>\n",
       "</table>\n",
       "</div>"
      ],
      "text/plain": [
       "   age     sex     bmi  children smoker     region      charges\n",
       "0   19  female  27.900         0    yes  southwest  16884.92400\n",
       "1   18    male  33.770         1     no  southeast   1725.55230\n",
       "2   28    male  33.000         3     no  southeast   4449.46200\n",
       "3   33    male  22.705         0     no  northwest  21984.47061\n",
       "4   32    male  28.880         0     no  northwest   3866.85520"
      ]
     },
     "execution_count": 3,
     "metadata": {},
     "output_type": "execute_result"
    }
   ],
   "source": [
    "df.head()"
   ]
  },
  {
   "cell_type": "code",
   "execution_count": 4,
   "id": "0ec57afb",
   "metadata": {},
   "outputs": [],
   "source": [
    "#Converting into numerical values\n",
    "df['sex'] = df['sex'].replace({'male':1, 'female':0})\n",
    "df['smoker'] = df['smoker'].replace({'yes':1, 'no':0})\n",
    "df['region'] = df['region'].replace({'southwest':1, 'southeast':2, 'northwest':3, 'northeast':4})"
   ]
  },
  {
   "cell_type": "code",
   "execution_count": 5,
   "id": "2e566f4c",
   "metadata": {},
   "outputs": [],
   "source": [
    "#Dealing with missing values\n",
    "df = df.replace(np.nan, 0)"
   ]
  },
  {
   "cell_type": "code",
   "execution_count": 6,
   "id": "8192203a",
   "metadata": {},
   "outputs": [
    {
     "data": {
      "text/html": [
       "<div>\n",
       "<style scoped>\n",
       "    .dataframe tbody tr th:only-of-type {\n",
       "        vertical-align: middle;\n",
       "    }\n",
       "\n",
       "    .dataframe tbody tr th {\n",
       "        vertical-align: top;\n",
       "    }\n",
       "\n",
       "    .dataframe thead th {\n",
       "        text-align: right;\n",
       "    }\n",
       "</style>\n",
       "<table border=\"1\" class=\"dataframe\">\n",
       "  <thead>\n",
       "    <tr style=\"text-align: right;\">\n",
       "      <th></th>\n",
       "      <th>age</th>\n",
       "      <th>sex</th>\n",
       "      <th>bmi</th>\n",
       "      <th>children</th>\n",
       "      <th>smoker</th>\n",
       "      <th>region</th>\n",
       "      <th>charges</th>\n",
       "    </tr>\n",
       "  </thead>\n",
       "  <tbody>\n",
       "    <tr>\n",
       "      <th>0</th>\n",
       "      <td>19</td>\n",
       "      <td>0</td>\n",
       "      <td>27.900</td>\n",
       "      <td>0</td>\n",
       "      <td>1</td>\n",
       "      <td>1</td>\n",
       "      <td>16884.92400</td>\n",
       "    </tr>\n",
       "    <tr>\n",
       "      <th>1</th>\n",
       "      <td>18</td>\n",
       "      <td>1</td>\n",
       "      <td>33.770</td>\n",
       "      <td>1</td>\n",
       "      <td>0</td>\n",
       "      <td>2</td>\n",
       "      <td>1725.55230</td>\n",
       "    </tr>\n",
       "    <tr>\n",
       "      <th>2</th>\n",
       "      <td>28</td>\n",
       "      <td>1</td>\n",
       "      <td>33.000</td>\n",
       "      <td>3</td>\n",
       "      <td>0</td>\n",
       "      <td>2</td>\n",
       "      <td>4449.46200</td>\n",
       "    </tr>\n",
       "    <tr>\n",
       "      <th>3</th>\n",
       "      <td>33</td>\n",
       "      <td>1</td>\n",
       "      <td>22.705</td>\n",
       "      <td>0</td>\n",
       "      <td>0</td>\n",
       "      <td>3</td>\n",
       "      <td>21984.47061</td>\n",
       "    </tr>\n",
       "    <tr>\n",
       "      <th>4</th>\n",
       "      <td>32</td>\n",
       "      <td>1</td>\n",
       "      <td>28.880</td>\n",
       "      <td>0</td>\n",
       "      <td>0</td>\n",
       "      <td>3</td>\n",
       "      <td>3866.85520</td>\n",
       "    </tr>\n",
       "    <tr>\n",
       "      <th>...</th>\n",
       "      <td>...</td>\n",
       "      <td>...</td>\n",
       "      <td>...</td>\n",
       "      <td>...</td>\n",
       "      <td>...</td>\n",
       "      <td>...</td>\n",
       "      <td>...</td>\n",
       "    </tr>\n",
       "    <tr>\n",
       "      <th>1333</th>\n",
       "      <td>50</td>\n",
       "      <td>1</td>\n",
       "      <td>30.970</td>\n",
       "      <td>3</td>\n",
       "      <td>0</td>\n",
       "      <td>3</td>\n",
       "      <td>10600.54830</td>\n",
       "    </tr>\n",
       "    <tr>\n",
       "      <th>1334</th>\n",
       "      <td>18</td>\n",
       "      <td>0</td>\n",
       "      <td>31.920</td>\n",
       "      <td>0</td>\n",
       "      <td>0</td>\n",
       "      <td>4</td>\n",
       "      <td>2205.98080</td>\n",
       "    </tr>\n",
       "    <tr>\n",
       "      <th>1335</th>\n",
       "      <td>18</td>\n",
       "      <td>0</td>\n",
       "      <td>36.850</td>\n",
       "      <td>0</td>\n",
       "      <td>0</td>\n",
       "      <td>2</td>\n",
       "      <td>1629.83350</td>\n",
       "    </tr>\n",
       "    <tr>\n",
       "      <th>1336</th>\n",
       "      <td>21</td>\n",
       "      <td>0</td>\n",
       "      <td>25.800</td>\n",
       "      <td>0</td>\n",
       "      <td>0</td>\n",
       "      <td>1</td>\n",
       "      <td>2007.94500</td>\n",
       "    </tr>\n",
       "    <tr>\n",
       "      <th>1337</th>\n",
       "      <td>61</td>\n",
       "      <td>0</td>\n",
       "      <td>29.070</td>\n",
       "      <td>0</td>\n",
       "      <td>1</td>\n",
       "      <td>3</td>\n",
       "      <td>29141.36030</td>\n",
       "    </tr>\n",
       "  </tbody>\n",
       "</table>\n",
       "<p>1338 rows × 7 columns</p>\n",
       "</div>"
      ],
      "text/plain": [
       "      age  sex     bmi  children  smoker  region      charges\n",
       "0      19    0  27.900         0       1       1  16884.92400\n",
       "1      18    1  33.770         1       0       2   1725.55230\n",
       "2      28    1  33.000         3       0       2   4449.46200\n",
       "3      33    1  22.705         0       0       3  21984.47061\n",
       "4      32    1  28.880         0       0       3   3866.85520\n",
       "...   ...  ...     ...       ...     ...     ...          ...\n",
       "1333   50    1  30.970         3       0       3  10600.54830\n",
       "1334   18    0  31.920         0       0       4   2205.98080\n",
       "1335   18    0  36.850         0       0       2   1629.83350\n",
       "1336   21    0  25.800         0       0       1   2007.94500\n",
       "1337   61    0  29.070         0       1       3  29141.36030\n",
       "\n",
       "[1338 rows x 7 columns]"
      ]
     },
     "execution_count": 6,
     "metadata": {},
     "output_type": "execute_result"
    }
   ],
   "source": [
    "df"
   ]
  },
  {
   "cell_type": "code",
   "execution_count": 7,
   "id": "faad6ece",
   "metadata": {},
   "outputs": [],
   "source": [
    "insurance = df.iloc[:,0:6]\n",
    "charges = df.iloc[:,6]"
   ]
  },
  {
   "cell_type": "code",
   "execution_count": 8,
   "id": "509c6ccf",
   "metadata": {},
   "outputs": [
    {
     "data": {
      "text/plain": [
       "0       16.884924\n",
       "1        1.725552\n",
       "2        4.449462\n",
       "3       21.984471\n",
       "4        3.866855\n",
       "          ...    \n",
       "1333    10.600548\n",
       "1334     2.205981\n",
       "1335     1.629833\n",
       "1336     2.007945\n",
       "1337    29.141360\n",
       "Name: charges, Length: 1338, dtype: float64"
      ]
     },
     "execution_count": 8,
     "metadata": {},
     "output_type": "execute_result"
    }
   ],
   "source": [
    "#Converting target column in terms of thousands\n",
    "charges = (charges).apply(lambda x: x*0.001)\n",
    "charges"
   ]
  },
  {
   "cell_type": "code",
   "execution_count": 9,
   "id": "5d010976",
   "metadata": {},
   "outputs": [],
   "source": [
    "#Standardize & Train/Test Split\n",
    "insurance = preprocessing.scale(insurance)\n",
    "x_train, x_test, y_train, y_test = train_test_split(insurance, charges, test_size = 0.3, random_state = 10)"
   ]
  },
  {
   "cell_type": "markdown",
   "id": "38ec2d07",
   "metadata": {},
   "source": [
    "### Linear Regression"
   ]
  },
  {
   "cell_type": "code",
   "execution_count": 10,
   "id": "d5826dca",
   "metadata": {},
   "outputs": [
    {
     "data": {
      "text/plain": [
       "36.57777709059156"
      ]
     },
     "execution_count": 10,
     "metadata": {},
     "output_type": "execute_result"
    }
   ],
   "source": [
    "ols = LinearRegression()\n",
    "ols.fit(x_train, y_train)\n",
    "ols_pred = ols.predict(x_test)\n",
    "mean_squared_error(y_test, ols_pred)"
   ]
  },
  {
   "cell_type": "code",
   "execution_count": 11,
   "id": "6727c4ad",
   "metadata": {},
   "outputs": [
    {
     "data": {
      "text/plain": [
       "6.047956439210815"
      ]
     },
     "execution_count": 11,
     "metadata": {},
     "output_type": "execute_result"
    }
   ],
   "source": [
    "np.sqrt(mean_squared_error(y_test, ols_pred))"
   ]
  },
  {
   "cell_type": "code",
   "execution_count": 12,
   "id": "75cd4107",
   "metadata": {},
   "outputs": [
    {
     "data": {
      "text/plain": [
       "array([ 3.75084794, -0.13823849,  2.026829  ,  0.7433247 ,  9.79066763,\n",
       "        0.31766568])"
      ]
     },
     "execution_count": 12,
     "metadata": {},
     "output_type": "execute_result"
    }
   ],
   "source": [
    "#Beta Values with respect to the feature name i.e. crime rate, etc.\n",
    "ols.coef_"
   ]
  },
  {
   "cell_type": "markdown",
   "id": "cd426f7c",
   "metadata": {},
   "source": [
    "### Lasso Regression"
   ]
  },
  {
   "cell_type": "code",
   "execution_count": 13,
   "id": "454e8d59",
   "metadata": {
    "scrolled": true
   },
   "outputs": [
    {
     "data": {
      "text/plain": [
       "35.992922690415725"
      ]
     },
     "execution_count": 13,
     "metadata": {},
     "output_type": "execute_result"
    }
   ],
   "source": [
    "lasso_reg = Lasso(alpha = 0.5)\n",
    "lasso_reg.fit(x_train, y_train)\n",
    "lasso_reg.coef_\n",
    "lasso_pred = lasso_reg.predict(x_test)\n",
    "mean_squared_error(y_test, lasso_pred)"
   ]
  },
  {
   "cell_type": "code",
   "execution_count": 14,
   "id": "68af40c7",
   "metadata": {},
   "outputs": [],
   "source": [
    "lasso_reg = Lasso(alpha = 0.5)\n",
    "lasso_reg.fit(x_train, y_train)\n",
    "lasso_df = pd.DataFrame({'variable': df.iloc[:,0:6].columns, 'estimate':lasso_reg.coef_})\n",
    "lasso_train_pred = []\n",
    "lasso_test_pred = []"
   ]
  },
  {
   "cell_type": "code",
   "execution_count": 15,
   "id": "40a0ffa8",
   "metadata": {},
   "outputs": [
    {
     "data": {
      "text/plain": [
       "array([ 3.35217037, -0.        ,  1.5666462 ,  0.25664061,  9.27459412,\n",
       "        0.        ])"
      ]
     },
     "execution_count": 15,
     "metadata": {},
     "output_type": "execute_result"
    }
   ],
   "source": [
    "lasso_reg.coef_"
   ]
  },
  {
   "cell_type": "code",
   "execution_count": 16,
   "id": "4c6c995c",
   "metadata": {},
   "outputs": [
    {
     "name": "stderr",
     "output_type": "stream",
     "text": [
      "<ipython-input-16-ae63a8ffcbf2>:6: UserWarning: With alpha=0, this algorithm does not converge well. You are advised to use the LinearRegression estimator\n",
      "  lasso_reg.fit(x_train, y_train)\n",
      "C:\\Users\\VIREN ( RELIANCE )\\anaconda3\\lib\\site-packages\\sklearn\\linear_model\\_coordinate_descent.py:530: UserWarning: Coordinate descent with no regularization may lead to unexpected results and is discouraged.\n",
      "  model = cd_fast.enet_coordinate_descent(\n",
      "C:\\Users\\VIREN ( RELIANCE )\\anaconda3\\lib\\site-packages\\sklearn\\linear_model\\_coordinate_descent.py:530: ConvergenceWarning: Objective did not converge. You might want to increase the number of iterations. Duality gap: 17150.05427479004, tolerance: 14.37728340165142\n",
      "  model = cd_fast.enet_coordinate_descent(\n"
     ]
    }
   ],
   "source": [
    "#Iterate Lambdas\n",
    "for alpha in np.arange(0, 1, 0.1):\n",
    "    \n",
    "    #Training\n",
    "    lasso_reg = Lasso(alpha = alpha)\n",
    "    lasso_reg.fit(x_train, y_train)\n",
    "    var_name = 'estimate' + str(alpha)\n",
    "    lasso_df[var_name] = lasso_reg.coef_\n",
    "    \n",
    "    #Prediction\n",
    "    lasso_train_pred.append(lasso_reg.predict(x_train))\n",
    "    lasso_test_pred.append(lasso_reg.predict(x_test))\n",
    "    \n",
    "#Organize Dataframe\n",
    "lasso_df = lasso_df.set_index('variable').T.rename_axis('estimate').rename_axis(None).reset_index() #Transpose"
   ]
  },
  {
   "cell_type": "code",
   "execution_count": 17,
   "id": "ed5f5bf0",
   "metadata": {},
   "outputs": [
    {
     "data": {
      "text/html": [
       "<div>\n",
       "<style scoped>\n",
       "    .dataframe tbody tr th:only-of-type {\n",
       "        vertical-align: middle;\n",
       "    }\n",
       "\n",
       "    .dataframe tbody tr th {\n",
       "        vertical-align: top;\n",
       "    }\n",
       "\n",
       "    .dataframe thead th {\n",
       "        text-align: right;\n",
       "    }\n",
       "</style>\n",
       "<table border=\"1\" class=\"dataframe\">\n",
       "  <thead>\n",
       "    <tr style=\"text-align: right;\">\n",
       "      <th>variable</th>\n",
       "      <th>index</th>\n",
       "      <th>age</th>\n",
       "      <th>sex</th>\n",
       "      <th>bmi</th>\n",
       "      <th>children</th>\n",
       "      <th>smoker</th>\n",
       "      <th>region</th>\n",
       "    </tr>\n",
       "  </thead>\n",
       "  <tbody>\n",
       "    <tr>\n",
       "      <th>0</th>\n",
       "      <td>estimate</td>\n",
       "      <td>3.352170</td>\n",
       "      <td>-0.000000</td>\n",
       "      <td>1.566646</td>\n",
       "      <td>0.256641</td>\n",
       "      <td>9.274594</td>\n",
       "      <td>0.000000</td>\n",
       "    </tr>\n",
       "    <tr>\n",
       "      <th>1</th>\n",
       "      <td>estimate0.0</td>\n",
       "      <td>3.750848</td>\n",
       "      <td>-0.138238</td>\n",
       "      <td>2.026829</td>\n",
       "      <td>0.743325</td>\n",
       "      <td>9.790668</td>\n",
       "      <td>0.317666</td>\n",
       "    </tr>\n",
       "    <tr>\n",
       "      <th>2</th>\n",
       "      <td>estimate0.1</td>\n",
       "      <td>3.676036</td>\n",
       "      <td>-0.019050</td>\n",
       "      <td>1.920011</td>\n",
       "      <td>0.644102</td>\n",
       "      <td>9.681653</td>\n",
       "      <td>0.199439</td>\n",
       "    </tr>\n",
       "    <tr>\n",
       "      <th>3</th>\n",
       "      <td>estimate0.2</td>\n",
       "      <td>3.595269</td>\n",
       "      <td>-0.000000</td>\n",
       "      <td>1.822352</td>\n",
       "      <td>0.546858</td>\n",
       "      <td>9.580364</td>\n",
       "      <td>0.085367</td>\n",
       "    </tr>\n",
       "    <tr>\n",
       "      <th>4</th>\n",
       "      <td>estimate0.30000000000000004</td>\n",
       "      <td>3.513658</td>\n",
       "      <td>-0.000000</td>\n",
       "      <td>1.729943</td>\n",
       "      <td>0.450032</td>\n",
       "      <td>9.479854</td>\n",
       "      <td>0.000000</td>\n",
       "    </tr>\n",
       "  </tbody>\n",
       "</table>\n",
       "</div>"
      ],
      "text/plain": [
       "variable                        index       age       sex       bmi  children  \\\n",
       "0                            estimate  3.352170 -0.000000  1.566646  0.256641   \n",
       "1                         estimate0.0  3.750848 -0.138238  2.026829  0.743325   \n",
       "2                         estimate0.1  3.676036 -0.019050  1.920011  0.644102   \n",
       "3                         estimate0.2  3.595269 -0.000000  1.822352  0.546858   \n",
       "4         estimate0.30000000000000004  3.513658 -0.000000  1.729943  0.450032   \n",
       "\n",
       "variable    smoker    region  \n",
       "0         9.274594  0.000000  \n",
       "1         9.790668  0.317666  \n",
       "2         9.681653  0.199439  \n",
       "3         9.580364  0.085367  \n",
       "4         9.479854  0.000000  "
      ]
     },
     "execution_count": 17,
     "metadata": {},
     "output_type": "execute_result"
    }
   ],
   "source": [
    "lasso_df.head()"
   ]
  },
  {
   "cell_type": "code",
   "execution_count": 18,
   "id": "88849d75",
   "metadata": {
    "scrolled": true
   },
   "outputs": [
    {
     "data": {
      "image/png": "[encoded data removed]",
      "text/plain": [
       "<Figure size 720x360 with 1 Axes>"
      ]
     },
     "metadata": {
      "needs_background": "light"
     },
     "output_type": "display_data"
    }
   ],
   "source": [
    "#Plot Betas by Lambda\n",
    "fig, ax = plt.subplots(figsize = (10,5))\n",
    "ax.plot(lasso_df.age, 'r', lasso_df.bmi, 'g', lasso_df.children, 'b', lasso_df.smoker, 'c')\n",
    "ax.axhline(y = 0, color = 'black', linestyle = '--')\n",
    "ax.set_xlabel('lambda')\n",
    "ax.set_ylabel('Beta Estimate')\n",
    "ax.set_title('Lasso Regression Trace', fontsize = 16)\n",
    "ax.legend(labels = ['age', 'bmi', 'children', 'smoker']) #Other variables become 0 by lambda = 0.2/0.3\n",
    "ax.grid(True)"
   ]
  },
  {
   "cell_type": "code",
   "execution_count": 19,
   "id": "be2c0bda",
   "metadata": {},
   "outputs": [
    {
     "data": {
      "text/plain": [
       "Text(0, 0.5, 'MSE')"
      ]
     },
     "execution_count": 19,
     "metadata": {},
     "output_type": "execute_result"
    },
    {
     "data": {
      "image/png": "[encoded data removed]",
      "text/plain": [
       "<Figure size 432x288 with 1 Axes>"
      ]
     },
     "metadata": {
      "needs_background": "light"
     },
     "output_type": "display_data"
    }
   ],
   "source": [
    "#MSE  of Lasso & OLS\n",
    "lasso_mse_test = [mean_squared_error(y_test, p) for p in lasso_test_pred]\n",
    "ols_mse = mean_squared_error(y_test, ols_pred)\n",
    "\n",
    "#Plot MSE\n",
    "plt.plot(lasso_mse_test[:25], 'ro')\n",
    "plt.axhline(y = ols_mse, color = 'g', linestyle = '--')\n",
    "plt.title('Lasso Test Set MSE', fontsize = 16)\n",
    "plt.xlabel('Model Simplicity$\\longrightarrow$')\n",
    "plt.ylabel('MSE')"
   ]
  },
  {
   "cell_type": "markdown",
   "id": "c8d08379",
   "metadata": {},
   "source": [
    "### Ridge Regression"
   ]
  },
  {
   "cell_type": "code",
   "execution_count": 20,
   "id": "018b0548",
   "metadata": {},
   "outputs": [
    {
     "data": {
      "text/plain": [
       "Ridge(alpha=9)"
      ]
     },
     "execution_count": 20,
     "metadata": {},
     "output_type": "execute_result"
    }
   ],
   "source": [
    "ridge_reg = Ridge(alpha = 9)\n",
    "ridge_reg.fit(x_train, y_train)"
   ]
  },
  {
   "cell_type": "code",
   "execution_count": 21,
   "id": "a3f1d0af",
   "metadata": {},
   "outputs": [
    {
     "data": {
      "text/plain": [
       "array([ 3.71728444, -0.12973293,  2.01310954,  0.73587367,  9.69670574,\n",
       "        0.31373249])"
      ]
     },
     "execution_count": 21,
     "metadata": {},
     "output_type": "execute_result"
    }
   ],
   "source": [
    "ridge_reg.coef_"
   ]
  },
  {
   "cell_type": "code",
   "execution_count": 22,
   "id": "48997e36",
   "metadata": {},
   "outputs": [],
   "source": [
    "pred = ridge_reg.predict(x_test)\n",
    "pred_train = ridge_reg.predict(x_train)"
   ]
  },
  {
   "cell_type": "code",
   "execution_count": 23,
   "id": "9f1bc2b4",
   "metadata": {},
   "outputs": [
    {
     "data": {
      "text/plain": [
       "36.43759505347803"
      ]
     },
     "execution_count": 23,
     "metadata": {},
     "output_type": "execute_result"
    }
   ],
   "source": [
    "mean_squared_error(y_test, pred)"
   ]
  },
  {
   "cell_type": "code",
   "execution_count": 24,
   "id": "e85ea2cf",
   "metadata": {},
   "outputs": [
    {
     "data": {
      "text/plain": [
       "6.054396445571829"
      ]
     },
     "execution_count": 24,
     "metadata": {},
     "output_type": "execute_result"
    }
   ],
   "source": [
    "np.sqrt(mean_squared_error(y_train, pred_train))"
   ]
  },
  {
   "cell_type": "code",
   "execution_count": 25,
   "id": "72b2fe61",
   "metadata": {},
   "outputs": [],
   "source": [
    "#Initialize\n",
    "ridge_reg = Ridge(alpha = 0)\n",
    "ridge_reg.fit(x_train, y_train)\n",
    "ridge_df = pd.DataFrame({'variable': df.iloc[:,0:6].columns, 'estimate': ridge_reg.coef_})\n",
    "ridge_train_pred = []\n",
    "ridge_test_pred = []"
   ]
  },
  {
   "cell_type": "code",
   "execution_count": 26,
   "id": "c080a600",
   "metadata": {},
   "outputs": [],
   "source": [
    "#Iterate Lambdas\n",
    "for alpha in np.arange(0, 20000, 10):\n",
    "    #Training\n",
    "    ridge_reg = Ridge(alpha = alpha)\n",
    "    ridge_reg.fit(x_train, y_train)\n",
    "    var_name = 'estimate' + str(alpha)\n",
    "    ridge_df[var_name] = ridge_reg.coef_\n",
    "    \n",
    "    #Prediction\n",
    "    ridge_train_pred.append(ridge_reg.predict(x_train))\n",
    "    ridge_test_pred.append(ridge_reg.predict(x_test))\n",
    "    \n",
    "#Organize Dataframe\n",
    "ridge_df = ridge_df.set_index('variable').T.rename_axis('estimate').rename_axis(None).reset_index()"
   ]
  },
  {
   "cell_type": "code",
   "execution_count": 27,
   "id": "f3d4ce94",
   "metadata": {},
   "outputs": [
    {
     "data": {
      "text/html": [
       "<div>\n",
       "<style scoped>\n",
       "    .dataframe tbody tr th:only-of-type {\n",
       "        vertical-align: middle;\n",
       "    }\n",
       "\n",
       "    .dataframe tbody tr th {\n",
       "        vertical-align: top;\n",
       "    }\n",
       "\n",
       "    .dataframe thead th {\n",
       "        text-align: right;\n",
       "    }\n",
       "</style>\n",
       "<table border=\"1\" class=\"dataframe\">\n",
       "  <thead>\n",
       "    <tr style=\"text-align: right;\">\n",
       "      <th>variable</th>\n",
       "      <th>index</th>\n",
       "      <th>age</th>\n",
       "      <th>sex</th>\n",
       "      <th>bmi</th>\n",
       "      <th>children</th>\n",
       "      <th>smoker</th>\n",
       "      <th>region</th>\n",
       "    </tr>\n",
       "  </thead>\n",
       "  <tbody>\n",
       "    <tr>\n",
       "      <th>0</th>\n",
       "      <td>estimate</td>\n",
       "      <td>3.750848</td>\n",
       "      <td>-0.138238</td>\n",
       "      <td>2.026829</td>\n",
       "      <td>0.743325</td>\n",
       "      <td>9.790668</td>\n",
       "      <td>0.317666</td>\n",
       "    </tr>\n",
       "    <tr>\n",
       "      <th>1</th>\n",
       "      <td>estimate0</td>\n",
       "      <td>3.750848</td>\n",
       "      <td>-0.138238</td>\n",
       "      <td>2.026829</td>\n",
       "      <td>0.743325</td>\n",
       "      <td>9.790668</td>\n",
       "      <td>0.317666</td>\n",
       "    </tr>\n",
       "    <tr>\n",
       "      <th>2</th>\n",
       "      <td>estimate10</td>\n",
       "      <td>3.713593</td>\n",
       "      <td>-0.128806</td>\n",
       "      <td>2.011596</td>\n",
       "      <td>0.735055</td>\n",
       "      <td>9.686377</td>\n",
       "      <td>0.313301</td>\n",
       "    </tr>\n",
       "    <tr>\n",
       "      <th>3</th>\n",
       "      <td>estimate20</td>\n",
       "      <td>3.677076</td>\n",
       "      <td>-0.119733</td>\n",
       "      <td>1.996578</td>\n",
       "      <td>0.726975</td>\n",
       "      <td>9.584298</td>\n",
       "      <td>0.309038</td>\n",
       "    </tr>\n",
       "    <tr>\n",
       "      <th>4</th>\n",
       "      <td>estimate30</td>\n",
       "      <td>3.641277</td>\n",
       "      <td>-0.111002</td>\n",
       "      <td>1.981770</td>\n",
       "      <td>0.719076</td>\n",
       "      <td>9.484361</td>\n",
       "      <td>0.304873</td>\n",
       "    </tr>\n",
       "    <tr>\n",
       "      <th>...</th>\n",
       "      <td>...</td>\n",
       "      <td>...</td>\n",
       "      <td>...</td>\n",
       "      <td>...</td>\n",
       "      <td>...</td>\n",
       "      <td>...</td>\n",
       "      <td>...</td>\n",
       "    </tr>\n",
       "    <tr>\n",
       "      <th>1996</th>\n",
       "      <td>estimate19950</td>\n",
       "      <td>0.180409</td>\n",
       "      <td>0.027521</td>\n",
       "      <td>0.121548</td>\n",
       "      <td>0.033097</td>\n",
       "      <td>0.437994</td>\n",
       "      <td>0.007636</td>\n",
       "    </tr>\n",
       "    <tr>\n",
       "      <th>1997</th>\n",
       "      <td>estimate19960</td>\n",
       "      <td>0.180323</td>\n",
       "      <td>0.027509</td>\n",
       "      <td>0.121490</td>\n",
       "      <td>0.033081</td>\n",
       "      <td>0.437784</td>\n",
       "      <td>0.007632</td>\n",
       "    </tr>\n",
       "    <tr>\n",
       "      <th>1998</th>\n",
       "      <td>estimate19970</td>\n",
       "      <td>0.180238</td>\n",
       "      <td>0.027496</td>\n",
       "      <td>0.121433</td>\n",
       "      <td>0.033065</td>\n",
       "      <td>0.437575</td>\n",
       "      <td>0.007628</td>\n",
       "    </tr>\n",
       "    <tr>\n",
       "      <th>1999</th>\n",
       "      <td>estimate19980</td>\n",
       "      <td>0.180152</td>\n",
       "      <td>0.027484</td>\n",
       "      <td>0.121376</td>\n",
       "      <td>0.033050</td>\n",
       "      <td>0.437366</td>\n",
       "      <td>0.007624</td>\n",
       "    </tr>\n",
       "    <tr>\n",
       "      <th>2000</th>\n",
       "      <td>estimate19990</td>\n",
       "      <td>0.180066</td>\n",
       "      <td>0.027472</td>\n",
       "      <td>0.121319</td>\n",
       "      <td>0.033034</td>\n",
       "      <td>0.437157</td>\n",
       "      <td>0.007620</td>\n",
       "    </tr>\n",
       "  </tbody>\n",
       "</table>\n",
       "<p>2001 rows × 7 columns</p>\n",
       "</div>"
      ],
      "text/plain": [
       "variable          index       age       sex       bmi  children    smoker  \\\n",
       "0              estimate  3.750848 -0.138238  2.026829  0.743325  9.790668   \n",
       "1             estimate0  3.750848 -0.138238  2.026829  0.743325  9.790668   \n",
       "2            estimate10  3.713593 -0.128806  2.011596  0.735055  9.686377   \n",
       "3            estimate20  3.677076 -0.119733  1.996578  0.726975  9.584298   \n",
       "4            estimate30  3.641277 -0.111002  1.981770  0.719076  9.484361   \n",
       "...                 ...       ...       ...       ...       ...       ...   \n",
       "1996      estimate19950  0.180409  0.027521  0.121548  0.033097  0.437994   \n",
       "1997      estimate19960  0.180323  0.027509  0.121490  0.033081  0.437784   \n",
       "1998      estimate19970  0.180238  0.027496  0.121433  0.033065  0.437575   \n",
       "1999      estimate19980  0.180152  0.027484  0.121376  0.033050  0.437366   \n",
       "2000      estimate19990  0.180066  0.027472  0.121319  0.033034  0.437157   \n",
       "\n",
       "variable    region  \n",
       "0         0.317666  \n",
       "1         0.317666  \n",
       "2         0.313301  \n",
       "3         0.309038  \n",
       "4         0.304873  \n",
       "...            ...  \n",
       "1996      0.007636  \n",
       "1997      0.007632  \n",
       "1998      0.007628  \n",
       "1999      0.007624  \n",
       "2000      0.007620  \n",
       "\n",
       "[2001 rows x 7 columns]"
      ]
     },
     "execution_count": 27,
     "metadata": {},
     "output_type": "execute_result"
    }
   ],
   "source": [
    "ridge_df"
   ]
  },
  {
   "cell_type": "code",
   "execution_count": 28,
   "id": "610198db",
   "metadata": {},
   "outputs": [
    {
     "data": {
      "image/png": "[encoded data removed]",
      "text/plain": [
       "<Figure size 720x360 with 1 Axes>"
      ]
     },
     "metadata": {
      "needs_background": "light"
     },
     "output_type": "display_data"
    }
   ],
   "source": [
    "#Plot Betas by Lambda\n",
    "fig, ax = plt.subplots(figsize = (10,5))\n",
    "ax.plot(ridge_df.age, 'r', ridge_df.bmi, 'g', ridge_df.children, 'b', ridge_df.smoker, 'c')\n",
    "ax.axhline(y = 0, color = 'black', linestyle = '--')\n",
    "ax.set_xlabel('Lambda')\n",
    "ax.set_ylabel('Beta Estimate')\n",
    "ax.set_title('Ridge Regression Trace', fontsize = 16)\n",
    "ax.legend(labels = ['age', 'bmi', 'children', 'smoker'])\n",
    "ax.grid(True)"
   ]
  },
  {
   "cell_type": "code",
   "execution_count": 29,
   "id": "faf6ebde",
   "metadata": {},
   "outputs": [],
   "source": [
    "ols_pred = ols.predict(x_test)"
   ]
  },
  {
   "cell_type": "code",
   "execution_count": 30,
   "id": "00153926",
   "metadata": {
    "scrolled": true
   },
   "outputs": [
    {
     "data": {
      "text/plain": [
       "Text(0, 0.5, 'MSE')"
      ]
     },
     "execution_count": 30,
     "metadata": {},
     "output_type": "execute_result"
    },
    {
     "data": {
      "image/png": "[encoded data removed]",
      "text/plain": [
       "<Figure size 432x288 with 1 Axes>"
      ]
     },
     "metadata": {
      "needs_background": "light"
     },
     "output_type": "display_data"
    }
   ],
   "source": [
    "#MSE of Ridge & OLS\n",
    "ridge_mse_test = [mean_squared_error(y_test, p) for p in ridge_test_pred]\n",
    "ols_mse = mean_squared_error(y_test, ols_pred)\n",
    "\n",
    "#Plot MSE\n",
    "plt.plot(ridge_mse_test[:25], 'ro')\n",
    "plt.axhline(y = ols_mse, color = 'g', linestyle = '--')\n",
    "plt.title('Ridge Test Set MSE', fontsize = 16)\n",
    "plt.xlabel('Model Simplicity$\\longrightarrow$')\n",
    "plt.ylabel('MSE')"
   ]
  }
 ],
 "metadata": {
  "kernelspec": {
   "display_name": "Python 3",
   "language": "python",
   "name": "python3"
  },
  "language_info": {
   "codemirror_mode": {
    "name": "ipython",
    "version": 3
   },
   "file_extension": ".py",
   "mimetype": "text/x-python",
   "name": "python",
   "nbconvert_exporter": "python",
   "pygments_lexer": "ipython3",
   "version": "3.8.3"
  }
 },
 "nbformat": 4,
 "nbformat_minor": 5
}
